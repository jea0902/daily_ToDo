{
 "cells": [
  {
   "cell_type": "code",
   "execution_count": 1,
   "id": "4f2a2348",
   "metadata": {},
   "outputs": [],
   "source": [
    "from sklearn.datasets import load_iris\n",
    "import pandas as pd"
   ]
  },
  {
   "cell_type": "code",
   "execution_count": 2,
   "id": "1cb0832c",
   "metadata": {},
   "outputs": [],
   "source": [
    "iris = load_iris()\n",
    "X = iris.data\n",
    "y = iris.target"
   ]
  },
  {
   "cell_type": "code",
   "execution_count": 3,
   "id": "88e7912c",
   "metadata": {},
   "outputs": [],
   "source": [
    "from sklearn.neighbors import KNeighborsClassifier\n",
    "model = KNeighborsClassifier(n_neighbors=3)"
   ]
  },
  {
   "cell_type": "code",
   "execution_count": 8,
   "id": "065a01e6",
   "metadata": {},
   "outputs": [
    {
     "name": "stdout",
     "output_type": "stream",
     "text": [
      "[0.96666667 0.96666667 0.93333333 0.96666667 1.        ] \n",
      "\n",
      "평균: 0.9666666666666668\n"
     ]
    }
   ],
   "source": [
    "from sklearn.model_selection import cross_val_score\n",
    "# cross val score => 교차검증\n",
    "# 5겹 교차검증 - train_test_split과 비교해보면\n",
    "# train_test_split는 데이터 무작위 나눔,\n",
    "# 훈련세트는 분류하기 어려움 / 테스트세트는 분류하기 쉬운 샘플\n",
    "# 테스트 세트의 정확도는 비현실 높게 나옴.\n",
    "\n",
    "# 교차 검증을 사용하면 테스트 세트에 각 샘플이 정확하게 한번씩 들어가고\n",
    "# 각 샘플은 폴드 중 하나에 속하며 각 폴드는 한번씩 테스트 세트가 됨 \n",
    "# 그렇기 때문에 교차 검증의 점수를 높이기 위해서는 데이터 셋에 있는 \n",
    "# 모든 샘플에 대해 모델이 잘 일반화 되어야 함\n",
    "# 교차 검증의 주요 단점은 연산 비용이 늘어남\n",
    "# 데이터를 여러개로 나누면 모델이 훈련 데이터에 얼마나 민감한지 알 수가 있음 \n",
    "\n",
    "scores = cross_val_score(model, X, y, cv=5)\n",
    "print(scores,'\\n')\n",
    "print('평균:',scores.mean())"
   ]
  },
  {
   "cell_type": "code",
   "execution_count": 9,
   "id": "6b6c3b11",
   "metadata": {},
   "outputs": [],
   "source": [
    "from sklearn.model_selection import ShuffleSplit"
   ]
  },
  {
   "cell_type": "code",
   "execution_count": 10,
   "id": "67b1cdad",
   "metadata": {
    "scrolled": true
   },
   "outputs": [
    {
     "name": "stdout",
     "output_type": "stream",
     "text": [
      "[0.93333333 0.93333333 1.         1.         0.91111111 0.97777778\n",
      " 0.97777778 0.97777778 0.97777778 0.97777778] \n",
      "\n",
      "평균: 0.9666666666666666\n"
     ]
    }
   ],
   "source": [
    "shuffle_split = ShuffleSplit(test_size=0.3, n_splits=10)\n",
    "scores = cross_val_score(model, X, y, cv = shuffle_split)\n",
    "print(scores, '\\n')\n",
    "print('평균:',scores.mean())"
   ]
  },
  {
   "cell_type": "code",
   "execution_count": 11,
   "id": "1a0592e7",
   "metadata": {},
   "outputs": [
    {
     "name": "stdout",
     "output_type": "stream",
     "text": [
      "   fit_time  score_time  test_score\n",
      "0  0.000000    0.002764    0.966667\n",
      "1  0.000000    0.002171    0.966667\n",
      "2  0.001002    0.003019    0.933333\n",
      "3  0.000916    0.002988    0.966667\n",
      "4  0.001004    0.003072    1.000000 \n",
      "\n",
      "평균: 0.9666666666666668\n"
     ]
    }
   ],
   "source": [
    "from sklearn.model_selection import cross_validate\n",
    "\n",
    "scores = pd.DataFrame(cross_validate(model, X, y, cv = 5))\n",
    "print(scores,'\\n')\n",
    "print('평균:',scores.test_score.mean())"
   ]
  },
  {
   "cell_type": "code",
   "execution_count": null,
   "id": "3fb7b31a",
   "metadata": {},
   "outputs": [],
   "source": []
  }
 ],
 "metadata": {
  "kernelspec": {
   "display_name": "Python 3 (ipykernel)",
   "language": "python",
   "name": "python3"
  },
  "language_info": {
   "codemirror_mode": {
    "name": "ipython",
    "version": 3
   },
   "file_extension": ".py",
   "mimetype": "text/x-python",
   "name": "python",
   "nbconvert_exporter": "python",
   "pygments_lexer": "ipython3",
   "version": "3.10.9"
  }
 },
 "nbformat": 4,
 "nbformat_minor": 5
}
