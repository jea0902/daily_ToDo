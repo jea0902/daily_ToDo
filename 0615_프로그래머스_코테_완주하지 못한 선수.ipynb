{
 "cells": [
  {
   "cell_type": "code",
   "execution_count": null,
   "metadata": {},
   "outputs": [],
   "source": [
    "def solution(participant, completion):\n",
    "    \n",
    "    participant.sort()\n",
    "    completion.sort()\n",
    "    # 정렬해주는 이유 : 같은 것들은 같은 위치일테니 구별해내기 쉬워서 / sort는 정렬시켜주고 나서 그 정렬이 유지된다. 변수(객체)를 만들려면 sorted\n",
    "    for i in range(len(completion)): # 0, 1 / 0 1 2 \n",
    "        if participant[i] != completion[i]:\n",
    "            return participant[i] # 서로 다른 녀석이 있으면 그게 완주 못한 선수 \n",
    "    # 위에서 다 돌아갔는데도 불구하고 다른 녀석을 못찾았다?\n",
    "    return participant[-1] # 마지막에 남은 녀석이 동명이인이자 완주 못한 선수(동명이인이 가장 마지막에 배치되어 있을 때의 경우)"
   ]
  }
 ],
 "metadata": {
  "kernelspec": {
   "display_name": "Python 3",
   "language": "python",
   "name": "python3"
  },
  "language_info": {
   "codemirror_mode": {
    "name": "ipython",
    "version": 3
   },
   "file_extension": ".py",
   "mimetype": "text/x-python",
   "name": "python",
   "nbconvert_exporter": "python",
   "pygments_lexer": "ipython3",
   "version": "3.8.3"
  }
 },
 "nbformat": 4,
 "nbformat_minor": 4
}
