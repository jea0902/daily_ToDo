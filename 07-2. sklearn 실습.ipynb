{
 "cells": [
  {
   "cell_type": "code",
   "execution_count": 1,
   "id": "5c4a269d",
   "metadata": {},
   "outputs": [],
   "source": [
    "import numpy as np\n",
    "import matplotlib.pyplot as plt"
   ]
  },
  {
   "cell_type": "code",
   "execution_count": 17,
   "id": "34925bcb",
   "metadata": {},
   "outputs": [
    {
     "name": "stdout",
     "output_type": "stream",
     "text": [
      "RandomState(MT19937)\n",
      "[7.71320643 0.20751949 6.33648235 7.48803883 4.98507012 2.24796646\n",
      " 1.98062865 7.60530712 1.69110837 0.88339814 6.85359818 9.53393346\n",
      " 0.03948266 5.12192263 8.12620962 6.12526067 7.21755317 2.91876068\n",
      " 9.17774123 7.14575783 5.42544368 1.42170048 3.7334076  6.74133615\n",
      " 4.41833174 4.34013993 6.17766978 5.13138243 6.50397182 6.01038953\n",
      " 8.05223197 5.21647152 9.08648881 3.19236089 0.90459349 3.00700057\n",
      " 1.13984362 8.28681326 0.46896319 6.26287148 5.47586156 8.19286996\n",
      " 1.9894754  8.56850302 3.51652639 7.54647692 2.95961707 8.8393648\n",
      " 3.25511638 1.65015898 3.92529244 0.93460375 8.21105658 1.5115202\n",
      " 3.84114449 9.44260712 9.87625475 4.56304547 8.26122844 2.51374134\n",
      " 5.97371648 9.0283176  5.34557949 5.90201363 0.39281767 3.57181759\n",
      " 0.7961309  3.05459918 3.30719312 7.73830296 0.39959209 4.29492178\n",
      " 3.14926872 6.36491143 3.4634715  0.43097356 8.79915175 7.63240587\n",
      " 8.78096643 4.17509144 6.05577564 5.13466627 5.97836648 2.62215661\n",
      " 3.00871309 0.25399782 3.03062561 2.42075875 5.57578189 5.6550702\n",
      " 4.75132247 2.92797976 0.64251061 9.78819146 3.39707844 4.95048631\n",
      " 9.77080726 4.40773825 3.18272805 5.19796986]\n",
      "100\n"
     ]
    }
   ],
   "source": [
    "rs = np.random.RandomState(10) # 10까지 \n",
    "# RandomState()는 난수생성기라는 object를 새로 만들어줌.\n",
    "# 특정 seed(파라미터)를 가지는 np.random.RandomState()를 만들어주고,\n",
    "# object에 접근하여 난수를 생성.\n",
    "# seed는 global seed임. 사실상 정의\n",
    "# 재생산성\n",
    "\n",
    "print(rs)\n",
    "\n",
    "x = 10*rs.rand(100) # 랜덤 100개 수\n",
    "print(x)\n",
    "print(len(x))\n",
    "y = 3*x + 2*rs.rand(100)"
   ]
  },
  {
   "cell_type": "code",
   "execution_count": 3,
   "id": "683b87c2",
   "metadata": {},
   "outputs": [
    {
     "data": {
      "text/plain": [
       "<matplotlib.collections.PathCollection at 0x28a22487250>"
      ]
     },
     "execution_count": 3,
     "metadata": {},
     "output_type": "execute_result"
    },
    {
     "data": {
      "image/png": "[encoded data removed]",
      "text/plain": [
       "<Figure size 640x480 with 1 Axes>"
      ]
     },
     "metadata": {},
     "output_type": "display_data"
    }
   ],
   "source": [
    "plt.scatter(x,y)"
   ]
  },
  {
   "cell_type": "code",
   "execution_count": 4,
   "id": "961078be",
   "metadata": {},
   "outputs": [],
   "source": [
    "from sklearn.linear_model import LinearRegression\n",
    "# 선형 회귀\n",
    "regr = LinearRegression()\n",
    "# 선형회귀 모델 생성 -> 그 안에 X,y 데이터를 fit시키는 게 정석\n",
    "# 이렇게 하면 새로운 x값을 넣어 y값을 예측가능"
   ]
  },
  {
   "cell_type": "code",
   "execution_count": 5,
   "id": "777842ff",
   "metadata": {},
   "outputs": [],
   "source": [
    "from sklearn.linear_model import LinearRegression\n",
    "regr = LinearRegression(fit_intercept = True)"
   ]
  },
  {
   "cell_type": "code",
   "execution_count": 6,
   "id": "894b0482",
   "metadata": {},
   "outputs": [
    {
     "name": "stdout",
     "output_type": "stream",
     "text": [
      "(100, 1) (100,)\n"
     ]
    }
   ],
   "source": [
    "X = x.reshape(-1,1)\n",
    "print(X.shape,y.shape)"
   ]
  },
  {
   "cell_type": "code",
   "execution_count": 7,
   "id": "dc5b6d23",
   "metadata": {},
   "outputs": [
    {
     "data": {
      "text/html": [
       "<style>#sk-container-id-1 {color: black;background-color: white;}#sk-container-id-1 pre{padding: 0;}#sk-container-id-1 div.sk-toggleable {background-color: white;}#sk-container-id-1 label.sk-toggleable__label {cursor: pointer;display: block;width: 100%;margin-bottom: 0;padding: 0.3em;box-sizing: border-box;text-align: center;}#sk-container-id-1 label.sk-toggleable__label-arrow:before {content: \"▸\";float: left;margin-right: 0.25em;color: #696969;}#sk-container-id-1 label.sk-toggleable__label-arrow:hover:before {color: black;}#sk-container-id-1 div.sk-estimator:hover label.sk-toggleable__label-arrow:before {color: black;}#sk-container-id-1 div.sk-toggleable__content {max-height: 0;max-width: 0;overflow: hidden;text-align: left;background-color: #f0f8ff;}#sk-container-id-1 div.sk-toggleable__content pre {margin: 0.2em;color: black;border-radius: 0.25em;background-color: #f0f8ff;}#sk-container-id-1 input.sk-toggleable__control:checked~div.sk-toggleable__content {max-height: 200px;max-width: 100%;overflow: auto;}#sk-container-id-1 input.sk-toggleable__control:checked~label.sk-toggleable__label-arrow:before {content: \"▾\";}#sk-container-id-1 div.sk-estimator input.sk-toggleable__control:checked~label.sk-toggleable__label {background-color: #d4ebff;}#sk-container-id-1 div.sk-label input.sk-toggleable__control:checked~label.sk-toggleable__label {background-color: #d4ebff;}#sk-container-id-1 input.sk-hidden--visually {border: 0;clip: rect(1px 1px 1px 1px);clip: rect(1px, 1px, 1px, 1px);height: 1px;margin: -1px;overflow: hidden;padding: 0;position: absolute;width: 1px;}#sk-container-id-1 div.sk-estimator {font-family: monospace;background-color: #f0f8ff;border: 1px dotted black;border-radius: 0.25em;box-sizing: border-box;margin-bottom: 0.5em;}#sk-container-id-1 div.sk-estimator:hover {background-color: #d4ebff;}#sk-container-id-1 div.sk-parallel-item::after {content: \"\";width: 100%;border-bottom: 1px solid gray;flex-grow: 1;}#sk-container-id-1 div.sk-label:hover label.sk-toggleable__label {background-color: #d4ebff;}#sk-container-id-1 div.sk-serial::before {content: \"\";position: absolute;border-left: 1px solid gray;box-sizing: border-box;top: 0;bottom: 0;left: 50%;z-index: 0;}#sk-container-id-1 div.sk-serial {display: flex;flex-direction: column;align-items: center;background-color: white;padding-right: 0.2em;padding-left: 0.2em;position: relative;}#sk-container-id-1 div.sk-item {position: relative;z-index: 1;}#sk-container-id-1 div.sk-parallel {display: flex;align-items: stretch;justify-content: center;background-color: white;position: relative;}#sk-container-id-1 div.sk-item::before, #sk-container-id-1 div.sk-parallel-item::before {content: \"\";position: absolute;border-left: 1px solid gray;box-sizing: border-box;top: 0;bottom: 0;left: 50%;z-index: -1;}#sk-container-id-1 div.sk-parallel-item {display: flex;flex-direction: column;z-index: 1;position: relative;background-color: white;}#sk-container-id-1 div.sk-parallel-item:first-child::after {align-self: flex-end;width: 50%;}#sk-container-id-1 div.sk-parallel-item:last-child::after {align-self: flex-start;width: 50%;}#sk-container-id-1 div.sk-parallel-item:only-child::after {width: 0;}#sk-container-id-1 div.sk-dashed-wrapped {border: 1px dashed gray;margin: 0 0.4em 0.5em 0.4em;box-sizing: border-box;padding-bottom: 0.4em;background-color: white;}#sk-container-id-1 div.sk-label label {font-family: monospace;font-weight: bold;display: inline-block;line-height: 1.2em;}#sk-container-id-1 div.sk-label-container {text-align: center;}#sk-container-id-1 div.sk-container {/* jupyter's `normalize.less` sets `[hidden] { display: none; }` but bootstrap.min.css set `[hidden] { display: none !important; }` so we also need the `!important` here to be able to override the default hidden behavior on the sphinx rendered scikit-learn.org. See: https://github.com/scikit-learn/scikit-learn/issues/21755 */display: inline-block !important;position: relative;}#sk-container-id-1 div.sk-text-repr-fallback {display: none;}</style><div id=\"sk-container-id-1\" class=\"sk-top-container\"><div class=\"sk-text-repr-fallback\"><pre>LinearRegression()</pre><b>In a Jupyter environment, please rerun this cell to show the HTML representation or trust the notebook. <br />On GitHub, the HTML representation is unable to render, please try loading this page with nbviewer.org.</b></div><div class=\"sk-container\" hidden><div class=\"sk-item\"><div class=\"sk-estimator sk-toggleable\"><input class=\"sk-toggleable__control sk-hidden--visually\" id=\"sk-estimator-id-1\" type=\"checkbox\" checked><label for=\"sk-estimator-id-1\" class=\"sk-toggleable__label sk-toggleable__label-arrow\">LinearRegression</label><div class=\"sk-toggleable__content\"><pre>LinearRegression()</pre></div></div></div></div></div>"
      ],
      "text/plain": [
       "LinearRegression()"
      ]
     },
     "execution_count": 7,
     "metadata": {},
     "output_type": "execute_result"
    }
   ],
   "source": [
    "regr.fit(X,y)"
   ]
  },
  {
   "cell_type": "code",
   "execution_count": 8,
   "id": "672ab3e1",
   "metadata": {},
   "outputs": [
    {
     "data": {
      "text/plain": [
       "array([2.9855087])"
      ]
     },
     "execution_count": 8,
     "metadata": {},
     "output_type": "execute_result"
    }
   ],
   "source": [
    "regr.coef_ # 기울기"
   ]
  },
  {
   "cell_type": "code",
   "execution_count": 10,
   "id": "b1619137",
   "metadata": {},
   "outputs": [
    {
     "data": {
      "text/plain": [
       "0.9878534341975644"
      ]
     },
     "execution_count": 10,
     "metadata": {},
     "output_type": "execute_result"
    }
   ],
   "source": [
    "regr.intercept_ # y절편"
   ]
  },
  {
   "cell_type": "code",
   "execution_count": 11,
   "id": "c7f4b3fd",
   "metadata": {},
   "outputs": [
    {
     "data": {
      "text/plain": [
       "array([-1.        , -0.87878788, -0.75757576, -0.63636364, -0.51515152,\n",
       "       -0.39393939, -0.27272727, -0.15151515, -0.03030303,  0.09090909,\n",
       "        0.21212121,  0.33333333,  0.45454545,  0.57575758,  0.6969697 ,\n",
       "        0.81818182,  0.93939394,  1.06060606,  1.18181818,  1.3030303 ,\n",
       "        1.42424242,  1.54545455,  1.66666667,  1.78787879,  1.90909091,\n",
       "        2.03030303,  2.15151515,  2.27272727,  2.39393939,  2.51515152,\n",
       "        2.63636364,  2.75757576,  2.87878788,  3.        ,  3.12121212,\n",
       "        3.24242424,  3.36363636,  3.48484848,  3.60606061,  3.72727273,\n",
       "        3.84848485,  3.96969697,  4.09090909,  4.21212121,  4.33333333,\n",
       "        4.45454545,  4.57575758,  4.6969697 ,  4.81818182,  4.93939394,\n",
       "        5.06060606,  5.18181818,  5.3030303 ,  5.42424242,  5.54545455,\n",
       "        5.66666667,  5.78787879,  5.90909091,  6.03030303,  6.15151515,\n",
       "        6.27272727,  6.39393939,  6.51515152,  6.63636364,  6.75757576,\n",
       "        6.87878788,  7.        ,  7.12121212,  7.24242424,  7.36363636,\n",
       "        7.48484848,  7.60606061,  7.72727273,  7.84848485,  7.96969697,\n",
       "        8.09090909,  8.21212121,  8.33333333,  8.45454545,  8.57575758,\n",
       "        8.6969697 ,  8.81818182,  8.93939394,  9.06060606,  9.18181818,\n",
       "        9.3030303 ,  9.42424242,  9.54545455,  9.66666667,  9.78787879,\n",
       "        9.90909091, 10.03030303, 10.15151515, 10.27272727, 10.39393939,\n",
       "       10.51515152, 10.63636364, 10.75757576, 10.87878788, 11.        ])"
      ]
     },
     "execution_count": 11,
     "metadata": {},
     "output_type": "execute_result"
    }
   ],
   "source": [
    "x_new = np.linspace(-1,11,num=100) \n",
    "# linspace 1차원 배열 만들기\n",
    "# x = np.linspace\n",
    "# (start 배열 시작값,stop 배열 끝값,\n",
    "# num 시작과 끝 사이를 몇 개의 일정한 가격으로 요소만들 것인지)\n",
    "x_new"
   ]
  },
  {
   "cell_type": "code",
   "execution_count": 12,
   "id": "6c76ce43",
   "metadata": {},
   "outputs": [
    {
     "data": {
      "text/plain": [
       "(100, 1)"
      ]
     },
     "execution_count": 12,
     "metadata": {},
     "output_type": "execute_result"
    }
   ],
   "source": [
    "X_new = x_new.reshape(-1,1)\n",
    "X_new.shape"
   ]
  },
  {
   "cell_type": "code",
   "execution_count": 18,
   "id": "1603ca63",
   "metadata": {},
   "outputs": [
    {
     "data": {
      "text/plain": [
       "<matplotlib.collections.PathCollection at 0x28a331cce20>"
      ]
     },
     "execution_count": 18,
     "metadata": {},
     "output_type": "execute_result"
    },
    {
     "data": {
      "image/png": "[encoded data removed]",
      "text/plain": [
       "<Figure size 640x480 with 1 Axes>"
      ]
     },
     "metadata": {},
     "output_type": "display_data"
    }
   ],
   "source": [
    "y_pred = regr.predict(X_new) # X값을 넣으면 y값 예측\n",
    "plt.plot(X_new, y_pred, c='red')\n",
    "plt.scatter(X,y)\n",
    "# 파란색은 오차?"
   ]
  },
  {
   "cell_type": "code",
   "execution_count": 20,
   "id": "ad08cc4e",
   "metadata": {},
   "outputs": [
    {
     "name": "stdout",
     "output_type": "stream",
     "text": [
      "187.91576500631237\n",
      "13.708237122486333\n"
     ]
    }
   ],
   "source": [
    "from sklearn.metrics import mean_squared_error\n",
    "\n",
    "#? ?\n",
    " \n",
    "mse = mean_squared_error(y,y_pred)\n",
    "rmse = np.sqrt(mean_squared_error(y,y_pred))\n",
    "\n",
    "print(mse)\n",
    "print(rmse)"
   ]
  },
  {
   "cell_type": "code",
   "execution_count": null,
   "id": "c2321ba0",
   "metadata": {},
   "outputs": [],
   "source": []
  }
 ],
 "metadata": {
  "kernelspec": {
   "display_name": "Python 3 (ipykernel)",
   "language": "python",
   "name": "python3"
  },
  "language_info": {
   "codemirror_mode": {
    "name": "ipython",
    "version": 3
   },
   "file_extension": ".py",
   "mimetype": "text/x-python",
   "name": "python",
   "nbconvert_exporter": "python",
   "pygments_lexer": "ipython3",
   "version": "3.10.9"
  }
 },
 "nbformat": 4,
 "nbformat_minor": 5
}
