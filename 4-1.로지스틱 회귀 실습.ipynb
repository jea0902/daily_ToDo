{
 "cells": [
  {
   "cell_type": "markdown",
   "metadata": {},
   "source": [
    "# 로지스틱 회귀\n",
    "\n",
    "- 이진 분류 문제에서 클래스 확률을 예측합니다."
   ]
  },
  {
   "cell_type": "markdown",
   "metadata": {},
   "source": [
    "<table align=\"left\">\n",
    "  <td>\n",
    "    <a target=\"_blank\" href=\"https://colab.research.google.com/github/rickiepark/hg-mldl/blob/master/4-1.ipynb\"><img src=\"https://www.tensorflow.org/images/colab_logo_32px.png\" />구글 코랩에서 실행하기</a>\n",
    "  </td>\n",
    "</table>"
   ]
  },
  {
   "cell_type": "markdown",
   "metadata": {
    "colab_type": "text",
    "id": "tQBDVUjBbIsL"
   },
   "source": [
    "## 럭키백의 확률"
   ]
  },
  {
   "cell_type": "markdown",
   "metadata": {},
   "source": [
    "### 데이터 준비하기"
   ]
  },
  {
   "cell_type": "code",
   "execution_count": 1,
   "metadata": {},
   "outputs": [
    {
     "data": {
      "text/html": [
       "<div>\n",
       "<style scoped>\n",
       "    .dataframe tbody tr th:only-of-type {\n",
       "        vertical-align: middle;\n",
       "    }\n",
       "\n",
       "    .dataframe tbody tr th {\n",
       "        vertical-align: top;\n",
       "    }\n",
       "\n",
       "    .dataframe thead th {\n",
       "        text-align: right;\n",
       "    }\n",
       "</style>\n",
       "<table border=\"1\" class=\"dataframe\">\n",
       "  <thead>\n",
       "    <tr style=\"text-align: right;\">\n",
       "      <th></th>\n",
       "      <th>Species</th>\n",
       "      <th>Weight</th>\n",
       "      <th>Length</th>\n",
       "      <th>Diagonal</th>\n",
       "      <th>Height</th>\n",
       "      <th>Width</th>\n",
       "    </tr>\n",
       "  </thead>\n",
       "  <tbody>\n",
       "    <tr>\n",
       "      <th>0</th>\n",
       "      <td>Bream</td>\n",
       "      <td>242.0</td>\n",
       "      <td>25.4</td>\n",
       "      <td>30.0</td>\n",
       "      <td>11.5200</td>\n",
       "      <td>4.0200</td>\n",
       "    </tr>\n",
       "    <tr>\n",
       "      <th>1</th>\n",
       "      <td>Bream</td>\n",
       "      <td>290.0</td>\n",
       "      <td>26.3</td>\n",
       "      <td>31.2</td>\n",
       "      <td>12.4800</td>\n",
       "      <td>4.3056</td>\n",
       "    </tr>\n",
       "    <tr>\n",
       "      <th>2</th>\n",
       "      <td>Bream</td>\n",
       "      <td>340.0</td>\n",
       "      <td>26.5</td>\n",
       "      <td>31.1</td>\n",
       "      <td>12.3778</td>\n",
       "      <td>4.6961</td>\n",
       "    </tr>\n",
       "    <tr>\n",
       "      <th>3</th>\n",
       "      <td>Bream</td>\n",
       "      <td>363.0</td>\n",
       "      <td>29.0</td>\n",
       "      <td>33.5</td>\n",
       "      <td>12.7300</td>\n",
       "      <td>4.4555</td>\n",
       "    </tr>\n",
       "    <tr>\n",
       "      <th>4</th>\n",
       "      <td>Bream</td>\n",
       "      <td>430.0</td>\n",
       "      <td>29.0</td>\n",
       "      <td>34.0</td>\n",
       "      <td>12.4440</td>\n",
       "      <td>5.1340</td>\n",
       "    </tr>\n",
       "  </tbody>\n",
       "</table>\n",
       "</div>"
      ],
      "text/plain": [
       "  Species  Weight  Length  Diagonal   Height   Width\n",
       "0   Bream   242.0    25.4      30.0  11.5200  4.0200\n",
       "1   Bream   290.0    26.3      31.2  12.4800  4.3056\n",
       "2   Bream   340.0    26.5      31.1  12.3778  4.6961\n",
       "3   Bream   363.0    29.0      33.5  12.7300  4.4555\n",
       "4   Bream   430.0    29.0      34.0  12.4440  5.1340"
      ]
     },
     "execution_count": 1,
     "metadata": {},
     "output_type": "execute_result"
    }
   ],
   "source": [
    "import pandas as pd\n",
    "\n",
    "fish = pd.read_csv('https://bit.ly/fish_csv')\n",
    "fish.head()"
   ]
  },
  {
   "cell_type": "code",
   "execution_count": 4,
   "metadata": {
    "colab": {
     "base_uri": "https://localhost:8080/",
     "height": 35
    },
    "colab_type": "code",
    "executionInfo": {
     "elapsed": 1495,
     "status": "ok",
     "timestamp": 1588758012475,
     "user": {
      "displayName": "Haesun Park",
      "photoUrl": "https://lh3.googleusercontent.com/a-/AOh14GhsWlS7sKQL-9fIkg3FmxpTMz_u-KDSs8y__P1ngQ=s64",
      "userId": "14935388527648823821"
     },
     "user_tz": -540
    },
    "id": "UWJWlRCHVWUg",
    "outputId": "b64599db-74b8-4feb-a5c0-d83e8543ef4f"
   },
   "outputs": [
    {
     "name": "stdout",
     "output_type": "stream",
     "text": [
      "['Bream' 'Roach' 'Whitefish' 'Parkki' 'Perch' 'Pike' 'Smelt']\n"
     ]
    }
   ],
   "source": [
    "print(pd.unique(fish['Species']))\n",
    "# unique()는 데이터에 고유값들이 어떠한 종류들이 있는지 알고 싶을때 사용하는 함수"
   ]
  },
  {
   "cell_type": "code",
   "execution_count": 3,
   "metadata": {
    "colab": {},
    "colab_type": "code",
    "id": "8JjMXc9wVE7C"
   },
   "outputs": [],
   "source": [
    "fish_input = fish[['Weight','Length','Diagonal','Height','Width']].to_numpy()\n",
    "# diagonal은 대각선\n",
    "# 왜 넘파이로?"
   ]
  },
  {
   "cell_type": "code",
   "execution_count": 4,
   "metadata": {
    "colab": {
     "base_uri": "https://localhost:8080/",
     "height": 104
    },
    "colab_type": "code",
    "executionInfo": {
     "elapsed": 1487,
     "status": "ok",
     "timestamp": 1588758012476,
     "user": {
      "displayName": "Haesun Park",
      "photoUrl": "https://lh3.googleusercontent.com/a-/AOh14GhsWlS7sKQL-9fIkg3FmxpTMz_u-KDSs8y__P1ngQ=s64",
      "userId": "14935388527648823821"
     },
     "user_tz": -540
    },
    "id": "1T6C1d5iMzb8",
    "outputId": "4340a3a5-b0ce-4d38-9f74-704330f76741",
    "scrolled": true
   },
   "outputs": [
    {
     "name": "stdout",
     "output_type": "stream",
     "text": [
      "[[242.      25.4     30.      11.52     4.02  ]\n",
      " [290.      26.3     31.2     12.48     4.3056]\n",
      " [340.      26.5     31.1     12.3778   4.6961]\n",
      " [363.      29.      33.5     12.73     4.4555]\n",
      " [430.      29.      34.      12.444    5.134 ]]\n"
     ]
    }
   ],
   "source": [
    "print(fish_input[:5])"
   ]
  },
  {
   "cell_type": "code",
   "execution_count": 5,
   "metadata": {
    "colab": {},
    "colab_type": "code",
    "id": "aB2oHhojTfWE"
   },
   "outputs": [],
   "source": [
    "fish_target = fish['Species'].to_numpy()"
   ]
  },
  {
   "cell_type": "code",
   "execution_count": 6,
   "metadata": {
    "colab": {},
    "colab_type": "code",
    "id": "dkllezAJW63K"
   },
   "outputs": [],
   "source": [
    "from sklearn.model_selection import train_test_split\n",
    "\n",
    "train_input, test_input, train_target, test_target = train_test_split(\n",
    "    fish_input, fish_target, random_state=42)"
   ]
  },
  {
   "cell_type": "code",
   "execution_count": 11,
   "metadata": {
    "colab": {},
    "colab_type": "code",
    "id": "H0ujq0BjXpfp"
   },
   "outputs": [
    {
     "name": "stdout",
     "output_type": "stream",
     "text": [
      "[[7.20000e+02 3.50000e+01 4.06000e+01 1.63618e+01 6.09000e+00]\n",
      " [5.00000e+02 4.50000e+01 4.80000e+01 6.96000e+00 4.89600e+00]\n",
      " [7.50000e+00 1.05000e+01 1.16000e+01 1.97200e+00 1.16000e+00]\n",
      " [1.10000e+02 2.20000e+01 2.35000e+01 5.52250e+00 3.99500e+00]\n",
      " [1.40000e+02 2.07000e+01 2.32000e+01 8.53760e+00 3.29440e+00]\n",
      " [6.90000e+01 1.82000e+01 2.03000e+01 5.29830e+00 2.82170e+00]\n",
      " [1.10000e+02 2.10000e+01 2.25000e+01 5.69250e+00 3.55500e+00]\n",
      " [6.20000e+02 3.45000e+01 3.97000e+01 1.55227e+01 5.28010e+00]\n",
      " [1.30000e+02 2.13000e+01 2.28000e+01 6.38400e+00 3.53400e+00]\n",
      " [8.50000e+01 2.00000e+01 2.10000e+01 5.08200e+00 2.77200e+00]\n",
      " [6.85000e+02 3.65000e+01 3.90000e+01 1.08810e+01 6.86400e+00]\n",
      " [5.00000e+02 3.10000e+01 3.62000e+01 1.43714e+01 4.81460e+00]\n",
      " [5.14000e+02 3.28000e+01 3.40000e+01 1.00300e+01 6.01800e+00]\n",
      " [2.00000e+02 2.30000e+01 2.58000e+01 1.03458e+01 3.66360e+00]\n",
      " [1.00000e+03 4.40000e+01 4.66000e+01 1.24888e+01 7.59580e+00]\n",
      " [7.14000e+02 3.60000e+01 4.15000e+01 1.65170e+01 5.85150e+00]\n",
      " [8.70000e+00 1.13000e+01 1.26000e+01 1.97820e+00 1.28520e+00]\n",
      " [1.00000e+03 4.30000e+01 4.52000e+01 1.19328e+01 7.27720e+00]\n",
      " [1.10000e+02 2.08000e+01 2.31000e+01 6.16770e+00 3.39570e+00]\n",
      " [4.30000e+02 2.90000e+01 3.40000e+01 1.24440e+01 5.13400e+00]\n",
      " [4.56000e+02 4.25000e+01 4.55000e+01 7.28000e+00 4.32250e+00]\n",
      " [9.25000e+02 3.95000e+01 4.53000e+01 1.87542e+01 6.74970e+00]\n",
      " [9.50000e+02 5.17000e+01 5.51000e+01 8.92620e+00 6.17120e+00]\n",
      " [2.50000e+02 2.75000e+01 2.89000e+01 7.28280e+00 4.56620e+00]\n",
      " [1.70000e+02 2.07000e+01 2.32000e+01 9.39600e+00 3.41040e+00]\n",
      " [4.75000e+02 3.10000e+01 3.62000e+01 1.42628e+01 5.10420e+00]\n",
      " [1.45000e+02 2.27000e+01 2.42000e+01 5.95320e+00 3.63000e+00]\n",
      " [3.00000e+02 3.73000e+01 3.98000e+01 6.28840e+00 4.01980e+00]\n",
      " [2.42000e+02 2.54000e+01 3.00000e+01 1.15200e+01 4.02000e+00]\n",
      " [6.50000e+02 3.90000e+01 4.14000e+01 1.11366e+01 6.00300e+00]\n",
      " [1.20000e+02 1.90000e+01 2.13000e+01 8.39220e+00 2.91810e+00]\n",
      " [1.45000e+02 2.20000e+01 2.43000e+01 6.63390e+00 3.54780e+00]\n",
      " [1.25000e+02 2.10000e+01 2.25000e+01 5.69250e+00 3.66750e+00]\n",
      " [8.50000e+02 3.60000e+01 4.16000e+01 1.68896e+01 6.19840e+00]\n",
      " [0.00000e+00 2.05000e+01 2.28000e+01 6.47520e+00 3.35160e+00]\n",
      " [8.40000e+02 3.50000e+01 3.73000e+01 1.14884e+01 7.79570e+00]\n",
      " [7.25000e+02 3.50000e+01 4.09000e+01 1.63600e+01 6.05320e+00]\n",
      " [6.80000e+02 3.50000e+01 4.06000e+01 1.54686e+01 6.13060e+00]\n",
      " [6.90000e+02 3.70000e+01 3.93000e+01 1.05717e+01 6.36660e+00]\n",
      " [8.00000e+01 1.90000e+01 2.02000e+01 5.63580e+00 3.05020e+00]\n",
      " [1.20000e+02 2.00000e+01 2.22000e+01 6.21600e+00 3.57420e+00]\n",
      " [1.60000e+03 6.00000e+01 6.40000e+01 9.60000e+00 6.14400e+00]\n",
      " [2.65000e+02 2.75000e+01 2.89000e+01 7.05160e+00 4.33500e+00]\n",
      " [1.22000e+01 1.22000e+01 1.34000e+01 2.09040e+00 1.39360e+00]\n",
      " [3.45000e+02 3.85000e+01 4.10000e+01 6.39600e+00 3.97700e+00]\n",
      " [1.60000e+02 2.25000e+01 2.50000e+01 6.40000e+00 3.80000e+00]\n",
      " [8.50000e+02 4.00000e+01 4.23000e+01 1.19286e+01 7.10640e+00]\n",
      " [5.50000e+01 1.47000e+01 1.65000e+01 6.84750e+00 2.32650e+00]\n",
      " [3.20000e+01 1.37000e+01 1.47000e+01 3.52800e+00 1.99920e+00]\n",
      " [9.75000e+02 4.10000e+01 4.59000e+01 1.86354e+01 6.74730e+00]\n",
      " [3.20000e+02 3.00000e+01 3.16000e+01 7.61560e+00 4.77160e+00]\n",
      " [9.70000e+00 1.10000e+01 1.20000e+01 2.19600e+00 1.38000e+00]\n",
      " [1.10000e+03 4.20000e+01 4.46000e+01 1.28002e+01 6.86840e+00]\n",
      " [6.00000e+01 1.55000e+01 1.74000e+01 6.57720e+00 2.31420e+00]\n",
      " [1.97000e+01 1.43000e+01 1.52000e+01 2.87280e+00 2.06720e+00]\n",
      " [1.45000e+02 2.40000e+01 2.55000e+01 6.37500e+00 3.82500e+00]\n",
      " [1.97000e+02 2.56000e+01 2.70000e+01 6.56100e+00 4.23900e+00]\n",
      " [2.72000e+02 2.70000e+01 3.06000e+01 8.56800e+00 4.77360e+00]\n",
      " [4.50000e+02 2.97000e+01 3.47000e+01 1.36024e+01 4.92740e+00]\n",
      " [7.00000e+02 3.70000e+01 3.94000e+01 1.08350e+01 6.26460e+00]\n",
      " [8.20000e+02 4.00000e+01 4.25000e+01 1.11350e+01 6.63000e+00]\n",
      " [1.61000e+02 2.34000e+01 2.67000e+01 6.91530e+00 3.63120e+00]\n",
      " [4.00000e+01 1.41000e+01 1.62000e+01 4.14720e+00 2.26800e+00]\n",
      " [8.50000e+01 1.96000e+01 2.08000e+01 5.13760e+00 3.03680e+00]\n",
      " [1.00000e+02 1.80000e+01 1.92000e+01 5.22240e+00 3.32160e+00]\n",
      " [9.50000e+02 4.10000e+01 4.65000e+01 1.76235e+01 6.37050e+00]\n",
      " [1.40000e+02 2.25000e+01 2.50000e+01 6.55000e+00 3.32500e+00]\n",
      " [3.90000e+02 3.00000e+01 3.50000e+01 1.26700e+01 4.69000e+00]\n",
      " [1.50000e+02 2.20000e+01 2.47000e+01 5.80450e+00 3.75440e+00]\n",
      " [2.73000e+02 2.50000e+01 2.80000e+01 1.10880e+01 4.14400e+00]\n",
      " [9.00000e+02 4.00000e+01 4.25000e+01 1.17300e+01 7.22500e+00]\n",
      " [5.56000e+02 3.45000e+01 3.65000e+01 1.02565e+01 6.38750e+00]\n",
      " [1.30000e+02 2.25000e+01 2.40000e+01 5.85600e+00 3.62400e+00]\n",
      " [1.15000e+02 2.10000e+01 2.25000e+01 5.91750e+00 3.30750e+00]\n",
      " [1.55000e+03 6.00000e+01 6.40000e+01 9.60000e+00 6.14400e+00]\n",
      " [1.65000e+03 6.34000e+01 6.80000e+01 1.08120e+01 7.48000e+00]\n",
      " [1.35000e+02 2.20000e+01 2.35000e+01 5.87500e+00 3.52500e+00]\n",
      " [4.50000e+02 3.00000e+01 3.51000e+01 1.40049e+01 4.84380e+00]\n",
      " [7.00000e+02 3.60000e+01 3.83000e+01 1.06091e+01 6.74080e+00]\n",
      " [3.40000e+02 3.20000e+01 3.73000e+01 1.39129e+01 5.07280e+00]\n",
      " [8.00000e+02 3.64000e+01 3.96000e+01 1.17612e+01 6.57360e+00]\n",
      " [5.40000e+02 4.30000e+01 4.58000e+01 7.78600e+00 5.12960e+00]\n",
      " [3.63000e+02 2.90000e+01 3.35000e+01 1.27300e+01 4.45550e+00]\n",
      " [7.00000e+02 3.30000e+01 3.85000e+01 1.49380e+01 5.19750e+00]\n",
      " [8.70000e+01 1.98000e+01 2.22000e+01 5.61660e+00 3.17460e+00]\n",
      " [5.90000e+00 8.40000e+00 8.80000e+00 2.11200e+00 1.40800e+00]\n",
      " [7.70000e+02 4.80000e+01 5.12000e+01 7.68000e+00 5.37600e+00]\n",
      " [5.00000e+02 2.97000e+01 3.45000e+01 1.41795e+01 5.27850e+00]\n",
      " [4.30000e+02 3.80000e+01 4.05000e+01 7.29000e+00 4.57650e+00]\n",
      " [9.00000e+01 1.77000e+01 1.98000e+01 7.40520e+00 2.67300e+00]\n",
      " [3.90000e+02 3.17000e+01 3.50000e+01 9.48500e+00 5.35500e+00]\n",
      " [3.00000e+02 2.87000e+01 3.01000e+01 7.58520e+00 4.63540e+00]\n",
      " [2.00000e+02 2.35000e+01 2.68000e+01 7.39680e+00 4.12720e+00]\n",
      " [1.22000e+01 1.30000e+01 1.38000e+01 2.27700e+00 1.25580e+00]\n",
      " [5.40000e+02 3.10000e+01 3.40000e+01 1.07440e+01 6.56200e+00]\n",
      " [1.69000e+02 2.40000e+01 2.72000e+01 7.53440e+00 3.83520e+00]\n",
      " [1.30000e+02 2.20000e+01 2.35000e+01 6.11000e+00 3.52500e+00]\n",
      " [6.85000e+02 3.40000e+01 3.92000e+01 1.59936e+01 5.37040e+00]\n",
      " [3.06000e+02 2.80000e+01 3.08000e+01 8.77800e+00 4.68160e+00]\n",
      " [9.80000e+00 1.20000e+01 1.32000e+01 2.20440e+00 1.14840e+00]\n",
      " [3.00000e+02 3.40000e+01 3.78000e+01 5.70780e+00 4.15800e+00]\n",
      " [7.80000e+01 1.88000e+01 2.12000e+01 5.57560e+00 2.90440e+00]\n",
      " [9.80000e+00 1.12000e+01 1.24000e+01 2.08320e+00 1.27720e+00]\n",
      " [2.90000e+02 2.63000e+01 3.12000e+01 1.24800e+01 4.30560e+00]\n",
      " [2.90000e+02 2.60000e+01 2.92000e+01 8.87680e+00 4.49680e+00]\n",
      " [3.00000e+02 3.50000e+01 3.88000e+01 5.93640e+00 4.38440e+00]\n",
      " [2.60000e+02 2.75000e+01 2.89000e+01 7.16720e+00 4.33500e+00]\n",
      " [1.80000e+02 2.50000e+01 2.65000e+01 6.43950e+00 3.68350e+00]\n",
      " [9.00000e+02 3.90000e+01 4.14000e+01 1.11366e+01 7.49340e+00]\n",
      " [1.20000e+02 2.20000e+01 2.35000e+01 5.64000e+00 3.52500e+00]\n",
      " [4.00000e+01 1.50000e+01 1.60000e+01 3.82400e+00 2.43200e+00]\n",
      " [1.01500e+03 4.00000e+01 4.24000e+01 1.23808e+01 7.46240e+00]\n",
      " [1.99000e+01 1.50000e+01 1.62000e+01 2.93220e+00 1.87920e+00]\n",
      " [5.75000e+02 3.40000e+01 3.95000e+01 1.51285e+01 5.56950e+00]\n",
      " [3.00000e+02 2.60000e+01 2.90000e+01 1.13680e+01 4.23400e+00]\n",
      " [2.50000e+02 2.80000e+01 2.94000e+01 7.82040e+00 4.20420e+00]\n",
      " [6.00000e+02 3.20000e+01 3.72000e+01 1.49544e+01 5.17080e+00]\n",
      " [1.50000e+02 2.25000e+01 2.40000e+01 6.79200e+00 3.62400e+00]\n",
      " [3.00000e+02 2.73000e+01 2.87000e+01 8.32300e+00 5.13730e+00]]\n"
     ]
    }
   ],
   "source": [
    "from sklearn.preprocessing import StandardScaler\n",
    "# 표준화 처리\n",
    "ss = StandardScaler()\n",
    "ss.fit(train_input)\n",
    "\n",
    "print(train_input)\n",
    "\n",
    "train_scaled = ss.transform(train_input)\n",
    "# print(train_input)\n",
    "test_scaled = ss.transform(test_input) # 테스트는 fit말고 transform만.."
   ]
  },
  {
   "cell_type": "markdown",
   "metadata": {
    "colab_type": "text",
    "id": "oAxk-V5kQcgc"
   },
   "source": [
    "### k-최근접 이웃 분류기의 확률 예측"
   ]
  },
  {
   "cell_type": "code",
   "execution_count": 14,
   "metadata": {
    "colab": {
     "base_uri": "https://localhost:8080/",
     "height": 52
    },
    "colab_type": "code",
    "executionInfo": {
     "elapsed": 2077,
     "status": "ok",
     "timestamp": 1588758013083,
     "user": {
      "displayName": "Haesun Park",
      "photoUrl": "https://lh3.googleusercontent.com/a-/AOh14GhsWlS7sKQL-9fIkg3FmxpTMz_u-KDSs8y__P1ngQ=s64",
      "userId": "14935388527648823821"
     },
     "user_tz": -540
    },
    "id": "BYWTNPOdXOfr",
    "outputId": "70d3a06d-b3a9-49d8-a4e0-01a12d5811f5"
   },
   "outputs": [
    {
     "name": "stdout",
     "output_type": "stream",
     "text": [
      "0.8907563025210085\n",
      "0.85\n"
     ]
    }
   ],
   "source": [
    "from sklearn.neighbors import KNeighborsClassifier\n",
    "\n",
    "kn = KNeighborsClassifier(n_neighbors=3)\n",
    "kn.fit(train_scaled, train_target)\n",
    "# 표준화 처리한 거를 최근접 이웃 분류기에 학습.(train만)\n",
    "\n",
    "print(kn.score(train_scaled, train_target))\n",
    "print(kn.score(test_scaled, test_target))"
   ]
  },
  {
   "cell_type": "code",
   "execution_count": 15,
   "metadata": {
    "colab": {
     "base_uri": "https://localhost:8080/",
     "height": 35
    },
    "colab_type": "code",
    "executionInfo": {
     "elapsed": 2072,
     "status": "ok",
     "timestamp": 1588758013083,
     "user": {
      "displayName": "Haesun Park",
      "photoUrl": "https://lh3.googleusercontent.com/a-/AOh14GhsWlS7sKQL-9fIkg3FmxpTMz_u-KDSs8y__P1ngQ=s64",
      "userId": "14935388527648823821"
     },
     "user_tz": -540
    },
    "id": "a879-O42RhFO",
    "outputId": "86b7cb6e-c63f-4384-9ad0-1316fed18939"
   },
   "outputs": [
    {
     "name": "stdout",
     "output_type": "stream",
     "text": [
      "['Bream' 'Parkki' 'Perch' 'Pike' 'Roach' 'Smelt' 'Whitefish']\n"
     ]
    }
   ],
   "source": [
    "print(kn.classes_)\n",
    "# bream이 첫번째 클래스, parkki가 두번쨰 클래스가 되는 식. 알파벳 순"
   ]
  },
  {
   "cell_type": "code",
   "execution_count": 18,
   "metadata": {},
   "outputs": [
    {
     "data": {
      "text/plain": [
       "array([[-0.88741352, -0.91804565, -1.03098914, -0.90464451, -0.80762518],\n",
       "       [-1.06924656, -1.50842035, -1.54345461, -1.58849582, -1.93803151],\n",
       "       [-0.54401367,  0.35641402,  0.30663259, -0.8135697 , -0.65388895],\n",
       "       [-0.34698097, -0.23396068, -0.22320459, -0.11905019, -0.12233464],\n",
       "       [-0.68475132, -0.51509149, -0.58801052, -0.8998784 , -0.50124996]])"
      ]
     },
     "execution_count": 18,
     "metadata": {},
     "output_type": "execute_result"
    }
   ],
   "source": [
    "test_scaled[:5]\n",
    "# ['Weight','Length','Diagonal','Height','Width']"
   ]
  },
  {
   "cell_type": "code",
   "execution_count": 17,
   "metadata": {
    "colab": {
     "base_uri": "https://localhost:8080/",
     "height": 35
    },
    "colab_type": "code",
    "executionInfo": {
     "elapsed": 2067,
     "status": "ok",
     "timestamp": 1588758013083,
     "user": {
      "displayName": "Haesun Park",
      "photoUrl": "https://lh3.googleusercontent.com/a-/AOh14GhsWlS7sKQL-9fIkg3FmxpTMz_u-KDSs8y__P1ngQ=s64",
      "userId": "14935388527648823821"
     },
     "user_tz": -540
    },
    "id": "EucmtF8HVOS_",
    "outputId": "262c7bec-48e4-48e7-bd0b-ac37e697d93e"
   },
   "outputs": [
    {
     "name": "stdout",
     "output_type": "stream",
     "text": [
      "['Perch' 'Smelt' 'Pike' 'Perch' 'Perch']\n"
     ]
    }
   ],
   "source": [
    "print(kn.predict(test_scaled[:5])) # 타깃값으로 예측을 출력한다.\n",
    "# 첫번째 값은 perch 두번째 값은 smelt, 세번째 값은 pike 로 예측..\n",
    "# perch = [-0.88741352*Weight, -0.91804565*Length , -1.03098914*Diagonal , -0.90464451*Height , -0.80762518*Width]"
   ]
  },
  {
   "cell_type": "code",
   "execution_count": 19,
   "metadata": {
    "colab": {
     "base_uri": "https://localhost:8080/",
     "height": 104
    },
    "colab_type": "code",
    "executionInfo": {
     "elapsed": 2062,
     "status": "ok",
     "timestamp": 1588758013084,
     "user": {
      "displayName": "Haesun Park",
      "photoUrl": "https://lh3.googleusercontent.com/a-/AOh14GhsWlS7sKQL-9fIkg3FmxpTMz_u-KDSs8y__P1ngQ=s64",
      "userId": "14935388527648823821"
     },
     "user_tz": -540
    },
    "id": "OSDr8WSKXbUa",
    "outputId": "031762a4-ea8b-4039-ac98-10f5544693e0"
   },
   "outputs": [
    {
     "name": "stdout",
     "output_type": "stream",
     "text": [
      "[[0.     0.     1.     0.     0.     0.     0.    ]\n",
      " [0.     0.     0.     0.     0.     1.     0.    ]\n",
      " [0.     0.     0.     1.     0.     0.     0.    ]\n",
      " [0.     0.     0.6667 0.     0.3333 0.     0.    ]\n",
      " [0.     0.     0.6667 0.     0.3333 0.     0.    ]]\n"
     ]
    }
   ],
   "source": [
    "import numpy as np\n",
    "# 5개 샘플에 대한 예측은 predict_proba() 메서드로 클래스별 확률값을 반환.\n",
    "proba = kn.predict_proba(test_scaled[:5])\n",
    "print(np.round(proba, decimals=4)) # 소수점 넷째자리까지 표기, 다섯째부터 반올림.\n",
    "# 각 값들은 클래스별 맞을 확률\n",
    "# 첫번째 인덱스가 bream일 확률인데 0이다.\n",
    "# 첫번째 행이 perch, 두번째가 smelt, 네번째, 다섯번째는 67% 확률로 perch"
   ]
  },
  {
   "cell_type": "code",
   "execution_count": 24,
   "metadata": {
    "colab": {
     "base_uri": "https://localhost:8080/",
     "height": 35
    },
    "colab_type": "code",
    "executionInfo": {
     "elapsed": 2057,
     "status": "ok",
     "timestamp": 1588758013084,
     "user": {
      "displayName": "Haesun Park",
      "photoUrl": "https://lh3.googleusercontent.com/a-/AOh14GhsWlS7sKQL-9fIkg3FmxpTMz_u-KDSs8y__P1ngQ=s64",
      "userId": "14935388527648823821"
     },
     "user_tz": -540
    },
    "id": "Hk-ywsfKkf7t",
    "outputId": "38e6d52b-3844-48ae-c2c5-7b9b6375c384"
   },
   "outputs": [
    {
     "data": {
      "text/plain": [
       "array([[104, 115, 106]], dtype=int64)"
      ]
     },
     "execution_count": 24,
     "metadata": {},
     "output_type": "execute_result"
    }
   ],
   "source": [
    "distances, indexes = kn.kneighbors(test_scaled[3:4]) # 67% 확률로 perch인 녀석\n",
    "                                                        # 주변 거리, 인덱스\n",
    "indexes"
   ]
  },
  {
   "cell_type": "code",
   "execution_count": 26,
   "metadata": {},
   "outputs": [
    {
     "data": {
      "text/plain": [
       "array([[0.20774583, 0.24862983, 0.33682411]])"
      ]
     },
     "execution_count": 26,
     "metadata": {},
     "output_type": "execute_result"
    }
   ],
   "source": [
    "distances "
   ]
  },
  {
   "cell_type": "code",
   "execution_count": 25,
   "metadata": {},
   "outputs": [
    {
     "name": "stdout",
     "output_type": "stream",
     "text": [
      "[['Roach' 'Perch' 'Perch']]\n"
     ]
    }
   ],
   "source": [
    "print(train_target[indexes])"
   ]
  },
  {
   "cell_type": "markdown",
   "metadata": {
    "colab_type": "text",
    "id": "Q9_wuI_0tEqL"
   },
   "source": [
    "## 로지스틱 회귀"
   ]
  },
  {
   "cell_type": "code",
   "execution_count": 27,
   "metadata": {
    "colab": {
     "base_uri": "https://localhost:8080/",
     "height": 265
    },
    "colab_type": "code",
    "executionInfo": {
     "elapsed": 2525,
     "status": "ok",
     "timestamp": 1588758013557,
     "user": {
      "displayName": "Haesun Park",
      "photoUrl": "https://lh3.googleusercontent.com/a-/AOh14GhsWlS7sKQL-9fIkg3FmxpTMz_u-KDSs8y__P1ngQ=s64",
      "userId": "14935388527648823821"
     },
     "user_tz": -540
    },
    "id": "8rdDSaZ5uji2",
    "outputId": "3ce9ad8c-dcd7-4cf9-b581-4f4eafdf1c5c"
   },
   "outputs": [
    {
     "data": {
      "image/png": "[encoded data removed]",
      "text/plain": [
       "<Figure size 640x480 with 1 Axes>"
      ]
     },
     "metadata": {},
     "output_type": "display_data"
    }
   ],
   "source": [
    "# 로지스틱 회귀는 이름은 회귄데, 분류모델. 선형회귀와 동일하게 선형 회귀와\n",
    "# 동일하게 선형 방정식을 학습한다.\n",
    "# Z = a * weight + b * length + c * diagonal + d * height + e * width + f\n",
    "# Z는 어던 값도 될 수 있지만, 확률이 되려면 0~1사이 값이 되어야 하기에\n",
    "# 시그모이드 함수 또는 로지스틱 함수를 사용해야 함.\n",
    "\n",
    "import numpy as np\n",
    "import matplotlib.pyplot as plt\n",
    "\n",
    "z = np.arange(-5, 5, 0.1)\n",
    "phi = 1 / (1 + np.exp(-z)) # 시그모이드\n",
    "\n",
    "plt.plot(z, phi)\n",
    "plt.show() # 값이 0~1 사이로 \n",
    "# 딱 0.5이면 라이브러리마다 다르지만, 사이킷런은 0.5일 떄 음성 클래스로 판단."
   ]
  },
  {
   "cell_type": "markdown",
   "metadata": {
    "colab_type": "text",
    "id": "1J6LGKpUJbFE"
   },
   "source": [
    "### 로지스틱 회귀로 이진 분류 수행하기"
   ]
  },
  {
   "cell_type": "code",
   "execution_count": 28,
   "metadata": {
    "colab": {
     "base_uri": "https://localhost:8080/",
     "height": 35
    },
    "colab_type": "code",
    "executionInfo": {
     "elapsed": 2517,
     "status": "ok",
     "timestamp": 1588758013557,
     "user": {
      "displayName": "Haesun Park",
      "photoUrl": "https://lh3.googleusercontent.com/a-/AOh14GhsWlS7sKQL-9fIkg3FmxpTMz_u-KDSs8y__P1ngQ=s64",
      "userId": "14935388527648823821"
     },
     "user_tz": -540
    },
    "id": "JeR5cA_fIe24",
    "outputId": "823f2907-f89f-4e54-f0da-827d9ffc599f"
   },
   "outputs": [
    {
     "name": "stdout",
     "output_type": "stream",
     "text": [
      "['A' 'C']\n"
     ]
    }
   ],
   "source": [
    "char_arr = np.array(['A', 'B', 'C', 'D', 'E'])\n",
    "print(char_arr[[True, False, True, False, False]])"
   ]
  },
  {
   "cell_type": "code",
   "execution_count": 33,
   "metadata": {
    "colab": {},
    "colab_type": "code",
    "id": "Khxh-3t5-2Tk"
   },
   "outputs": [],
   "source": [
    "# 도미와 빙어 행만 골라낼 것. 비교 연산자를 사용하면 모두 True로 만들 수 있다.\n",
    "bream_smelt_indexes = (train_target == 'Bream') | (train_target == 'Smelt')\n",
    "train_bream_smelt = train_scaled[bream_smelt_indexes]\n",
    "#print(train_bream_smelt)\n",
    "target_bream_smelt = train_target[bream_smelt_indexes]"
   ]
  },
  {
   "cell_type": "code",
   "execution_count": 31,
   "metadata": {
    "colab": {
     "base_uri": "https://localhost:8080/",
     "height": 104
    },
    "colab_type": "code",
    "executionInfo": {
     "elapsed": 2509,
     "status": "ok",
     "timestamp": 1588758013558,
     "user": {
      "displayName": "Haesun Park",
      "photoUrl": "https://lh3.googleusercontent.com/a-/AOh14GhsWlS7sKQL-9fIkg3FmxpTMz_u-KDSs8y__P1ngQ=s64",
      "userId": "14935388527648823821"
     },
     "user_tz": -540
    },
    "id": "jEzP0aeXANra",
    "outputId": "f2a517ee-e12b-4e4b-f888-267940b9933f"
   },
   "outputs": [
    {
     "data": {
      "text/html": [
       "<style>#sk-container-id-1 {color: black;background-color: white;}#sk-container-id-1 pre{padding: 0;}#sk-container-id-1 div.sk-toggleable {background-color: white;}#sk-container-id-1 label.sk-toggleable__label {cursor: pointer;display: block;width: 100%;margin-bottom: 0;padding: 0.3em;box-sizing: border-box;text-align: center;}#sk-container-id-1 label.sk-toggleable__label-arrow:before {content: \"▸\";float: left;margin-right: 0.25em;color: #696969;}#sk-container-id-1 label.sk-toggleable__label-arrow:hover:before {color: black;}#sk-container-id-1 div.sk-estimator:hover label.sk-toggleable__label-arrow:before {color: black;}#sk-container-id-1 div.sk-toggleable__content {max-height: 0;max-width: 0;overflow: hidden;text-align: left;background-color: #f0f8ff;}#sk-container-id-1 div.sk-toggleable__content pre {margin: 0.2em;color: black;border-radius: 0.25em;background-color: #f0f8ff;}#sk-container-id-1 input.sk-toggleable__control:checked~div.sk-toggleable__content {max-height: 200px;max-width: 100%;overflow: auto;}#sk-container-id-1 input.sk-toggleable__control:checked~label.sk-toggleable__label-arrow:before {content: \"▾\";}#sk-container-id-1 div.sk-estimator input.sk-toggleable__control:checked~label.sk-toggleable__label {background-color: #d4ebff;}#sk-container-id-1 div.sk-label input.sk-toggleable__control:checked~label.sk-toggleable__label {background-color: #d4ebff;}#sk-container-id-1 input.sk-hidden--visually {border: 0;clip: rect(1px 1px 1px 1px);clip: rect(1px, 1px, 1px, 1px);height: 1px;margin: -1px;overflow: hidden;padding: 0;position: absolute;width: 1px;}#sk-container-id-1 div.sk-estimator {font-family: monospace;background-color: #f0f8ff;border: 1px dotted black;border-radius: 0.25em;box-sizing: border-box;margin-bottom: 0.5em;}#sk-container-id-1 div.sk-estimator:hover {background-color: #d4ebff;}#sk-container-id-1 div.sk-parallel-item::after {content: \"\";width: 100%;border-bottom: 1px solid gray;flex-grow: 1;}#sk-container-id-1 div.sk-label:hover label.sk-toggleable__label {background-color: #d4ebff;}#sk-container-id-1 div.sk-serial::before {content: \"\";position: absolute;border-left: 1px solid gray;box-sizing: border-box;top: 0;bottom: 0;left: 50%;z-index: 0;}#sk-container-id-1 div.sk-serial {display: flex;flex-direction: column;align-items: center;background-color: white;padding-right: 0.2em;padding-left: 0.2em;position: relative;}#sk-container-id-1 div.sk-item {position: relative;z-index: 1;}#sk-container-id-1 div.sk-parallel {display: flex;align-items: stretch;justify-content: center;background-color: white;position: relative;}#sk-container-id-1 div.sk-item::before, #sk-container-id-1 div.sk-parallel-item::before {content: \"\";position: absolute;border-left: 1px solid gray;box-sizing: border-box;top: 0;bottom: 0;left: 50%;z-index: -1;}#sk-container-id-1 div.sk-parallel-item {display: flex;flex-direction: column;z-index: 1;position: relative;background-color: white;}#sk-container-id-1 div.sk-parallel-item:first-child::after {align-self: flex-end;width: 50%;}#sk-container-id-1 div.sk-parallel-item:last-child::after {align-self: flex-start;width: 50%;}#sk-container-id-1 div.sk-parallel-item:only-child::after {width: 0;}#sk-container-id-1 div.sk-dashed-wrapped {border: 1px dashed gray;margin: 0 0.4em 0.5em 0.4em;box-sizing: border-box;padding-bottom: 0.4em;background-color: white;}#sk-container-id-1 div.sk-label label {font-family: monospace;font-weight: bold;display: inline-block;line-height: 1.2em;}#sk-container-id-1 div.sk-label-container {text-align: center;}#sk-container-id-1 div.sk-container {/* jupyter's `normalize.less` sets `[hidden] { display: none; }` but bootstrap.min.css set `[hidden] { display: none !important; }` so we also need the `!important` here to be able to override the default hidden behavior on the sphinx rendered scikit-learn.org. See: https://github.com/scikit-learn/scikit-learn/issues/21755 */display: inline-block !important;position: relative;}#sk-container-id-1 div.sk-text-repr-fallback {display: none;}</style><div id=\"sk-container-id-1\" class=\"sk-top-container\"><div class=\"sk-text-repr-fallback\"><pre>LogisticRegression()</pre><b>In a Jupyter environment, please rerun this cell to show the HTML representation or trust the notebook. <br />On GitHub, the HTML representation is unable to render, please try loading this page with nbviewer.org.</b></div><div class=\"sk-container\" hidden><div class=\"sk-item\"><div class=\"sk-estimator sk-toggleable\"><input class=\"sk-toggleable__control sk-hidden--visually\" id=\"sk-estimator-id-1\" type=\"checkbox\" checked><label for=\"sk-estimator-id-1\" class=\"sk-toggleable__label sk-toggleable__label-arrow\">LogisticRegression</label><div class=\"sk-toggleable__content\"><pre>LogisticRegression()</pre></div></div></div></div></div>"
      ],
      "text/plain": [
       "LogisticRegression()"
      ]
     },
     "execution_count": 31,
     "metadata": {},
     "output_type": "execute_result"
    }
   ],
   "source": [
    "from sklearn.linear_model import LogisticRegression # 선형 모델이 맞다.\n",
    "\n",
    "lr = LogisticRegression()\n",
    "lr.fit(train_bream_smelt, target_bream_smelt)"
   ]
  },
  {
   "cell_type": "code",
   "execution_count": 32,
   "metadata": {
    "colab": {
     "base_uri": "https://localhost:8080/",
     "height": 35
    },
    "colab_type": "code",
    "executionInfo": {
     "elapsed": 2503,
     "status": "ok",
     "timestamp": 1588758013558,
     "user": {
      "displayName": "Haesun Park",
      "photoUrl": "https://lh3.googleusercontent.com/a-/AOh14GhsWlS7sKQL-9fIkg3FmxpTMz_u-KDSs8y__P1ngQ=s64",
      "userId": "14935388527648823821"
     },
     "user_tz": -540
    },
    "id": "VtEWtsB7EIgm",
    "outputId": "fdf05d54-167d-4712-9fbf-8fe1a57847f6"
   },
   "outputs": [
    {
     "name": "stdout",
     "output_type": "stream",
     "text": [
      "['Bream' 'Smelt' 'Bream' 'Bream' 'Bream']\n"
     ]
    }
   ],
   "source": [
    "print(lr.predict(train_bream_smelt[:5]))"
   ]
  },
  {
   "cell_type": "code",
   "execution_count": 34,
   "metadata": {
    "colab": {
     "base_uri": "https://localhost:8080/",
     "height": 104
    },
    "colab_type": "code",
    "executionInfo": {
     "elapsed": 2497,
     "status": "ok",
     "timestamp": 1588758013558,
     "user": {
      "displayName": "Haesun Park",
      "photoUrl": "https://lh3.googleusercontent.com/a-/AOh14GhsWlS7sKQL-9fIkg3FmxpTMz_u-KDSs8y__P1ngQ=s64",
      "userId": "14935388527648823821"
     },
     "user_tz": -540
    },
    "id": "3H_qieV-_CTt",
    "outputId": "6eecaf43-3895-4e70-df23-9f100e9c1f88"
   },
   "outputs": [
    {
     "name": "stdout",
     "output_type": "stream",
     "text": [
      "[[0.99759855 0.00240145]\n",
      " [0.02735183 0.97264817]\n",
      " [0.99486072 0.00513928]\n",
      " [0.98584202 0.01415798]\n",
      " [0.99767269 0.00232731]]\n"
     ]
    }
   ],
   "source": [
    "print(lr.predict_proba(train_bream_smelt[:5])) # 예측 확률"
   ]
  },
  {
   "cell_type": "code",
   "execution_count": 35,
   "metadata": {
    "colab": {
     "base_uri": "https://localhost:8080/",
     "height": 35
    },
    "colab_type": "code",
    "executionInfo": {
     "elapsed": 2493,
     "status": "ok",
     "timestamp": 1588758013559,
     "user": {
      "displayName": "Haesun Park",
      "photoUrl": "https://lh3.googleusercontent.com/a-/AOh14GhsWlS7sKQL-9fIkg3FmxpTMz_u-KDSs8y__P1ngQ=s64",
      "userId": "14935388527648823821"
     },
     "user_tz": -540
    },
    "id": "Mm60bpr7EQKU",
    "outputId": "ce578218-05af-4561-d811-aca01e72d030"
   },
   "outputs": [
    {
     "name": "stdout",
     "output_type": "stream",
     "text": [
      "['Bream' 'Smelt']\n"
     ]
    }
   ],
   "source": [
    "print(lr.classes_)"
   ]
  },
  {
   "cell_type": "code",
   "execution_count": 36,
   "metadata": {
    "colab": {
     "base_uri": "https://localhost:8080/",
     "height": 35
    },
    "colab_type": "code",
    "executionInfo": {
     "elapsed": 2488,
     "status": "ok",
     "timestamp": 1588758013559,
     "user": {
      "displayName": "Haesun Park",
      "photoUrl": "https://lh3.googleusercontent.com/a-/AOh14GhsWlS7sKQL-9fIkg3FmxpTMz_u-KDSs8y__P1ngQ=s64",
      "userId": "14935388527648823821"
     },
     "user_tz": -540
    },
    "id": "1mvoYhUVQmFY",
    "outputId": "c879d1e1-2311-4b07-fa1c-9fbf90e0130c"
   },
   "outputs": [
    {
     "name": "stdout",
     "output_type": "stream",
     "text": [
      "[[-0.4037798  -0.57620209 -0.66280298 -1.01290277 -0.73168947]] [-2.16155132]\n"
     ]
    }
   ],
   "source": [
    "print(lr.coef_, lr.intercept_)\n",
    "# z = -0.404 * weight - 0.576 * lenght - 0.66 dia - 1.01 * height - -0.732 * width - 2.161"
   ]
  },
  {
   "cell_type": "code",
   "execution_count": 37,
   "metadata": {
    "colab": {
     "base_uri": "https://localhost:8080/",
     "height": 35
    },
    "colab_type": "code",
    "executionInfo": {
     "elapsed": 2484,
     "status": "ok",
     "timestamp": 1588758013559,
     "user": {
      "displayName": "Haesun Park",
      "photoUrl": "https://lh3.googleusercontent.com/a-/AOh14GhsWlS7sKQL-9fIkg3FmxpTMz_u-KDSs8y__P1ngQ=s64",
      "userId": "14935388527648823821"
     },
     "user_tz": -540
    },
    "id": "SxrRy9m8A5Hy",
    "outputId": "20e0f3ff-5173-4e72-86ef-93ad213f9b5b"
   },
   "outputs": [
    {
     "name": "stdout",
     "output_type": "stream",
     "text": [
      "[-6.02927744  3.57123907 -5.26568906 -4.24321775 -6.0607117 ]\n"
     ]
    }
   ],
   "source": [
    "decisions = lr.decision_function(train_bream_smelt[:5]) # 양성 클래스에 대한 Z값 계산\n",
    "print(decisions)"
   ]
  },
  {
   "cell_type": "code",
   "execution_count": 38,
   "metadata": {
    "colab": {
     "base_uri": "https://localhost:8080/",
     "height": 35
    },
    "colab_type": "code",
    "executionInfo": {
     "elapsed": 2479,
     "status": "ok",
     "timestamp": 1588758013559,
     "user": {
      "displayName": "Haesun Park",
      "photoUrl": "https://lh3.googleusercontent.com/a-/AOh14GhsWlS7sKQL-9fIkg3FmxpTMz_u-KDSs8y__P1ngQ=s64",
      "userId": "14935388527648823821"
     },
     "user_tz": -540
    },
    "id": "SeuhSRuiA9yZ",
    "outputId": "1ad39120-b8c3-43f9-a3cb-2f296381a95b"
   },
   "outputs": [
    {
     "name": "stdout",
     "output_type": "stream",
     "text": [
      "[0.00240145 0.97264817 0.00513928 0.01415798 0.00232731]\n"
     ]
    }
   ],
   "source": [
    "from scipy.special import expit\n",
    "# 위 Z값을 시그모이드 함수에 통과시키면 확률을 얻을 수 있다.\n",
    "# SCIPY에서 시그모이드 함수 가져와서 적용\n",
    "\n",
    "print(expit(decisions))\n",
    "# 두번째 녀석만 SMELT"
   ]
  },
  {
   "cell_type": "markdown",
   "metadata": {
    "colab_type": "text",
    "id": "6ee-s4l7EuVo"
   },
   "source": [
    "### 로지스틱 회귀로 다중 분류 수행하기"
   ]
  },
  {
   "cell_type": "code",
   "execution_count": 39,
   "metadata": {
    "colab": {
     "base_uri": "https://localhost:8080/",
     "height": 52
    },
    "colab_type": "code",
    "executionInfo": {
     "elapsed": 2476,
     "status": "ok",
     "timestamp": 1588758013560,
     "user": {
      "displayName": "Haesun Park",
      "photoUrl": "https://lh3.googleusercontent.com/a-/AOh14GhsWlS7sKQL-9fIkg3FmxpTMz_u-KDSs8y__P1ngQ=s64",
      "userId": "14935388527648823821"
     },
     "user_tz": -540
    },
    "id": "7QugsbD2X8bf",
    "outputId": "a9285197-779e-4f7e-ceb0-d89889813fa6"
   },
   "outputs": [
    {
     "name": "stdout",
     "output_type": "stream",
     "text": [
      "0.9327731092436975\n",
      "0.925\n"
     ]
    }
   ],
   "source": [
    "lr = LogisticRegression(C=20, max_iter=1000) # 다중 7개의 생선분류\n",
    "# max_iter 반복횟수, C는 규제고 적을수록 규제가 세다.\n",
    "lr.fit(train_scaled, train_target) # 7개의 생선 데이터들이 들어있는\n",
    "# train만 학습시키고 아래 점수들\n",
    "\n",
    "print(lr.score(train_scaled, train_target))\n",
    "print(lr.score(test_scaled, test_target))"
   ]
  },
  {
   "cell_type": "code",
   "execution_count": 41,
   "metadata": {
    "colab": {
     "base_uri": "https://localhost:8080/",
     "height": 35
    },
    "colab_type": "code",
    "executionInfo": {
     "elapsed": 2471,
     "status": "ok",
     "timestamp": 1588758013560,
     "user": {
      "displayName": "Haesun Park",
      "photoUrl": "https://lh3.googleusercontent.com/a-/AOh14GhsWlS7sKQL-9fIkg3FmxpTMz_u-KDSs8y__P1ngQ=s64",
      "userId": "14935388527648823821"
     },
     "user_tz": -540
    },
    "id": "0taO0XnF9dha",
    "outputId": "1f2e1b97-558b-42c4-a101-58bad4cb562a"
   },
   "outputs": [
    {
     "name": "stdout",
     "output_type": "stream",
     "text": [
      "['Perch' 'Smelt' 'Pike' 'Roach' 'Perch']\n"
     ]
    }
   ],
   "source": [
    "print(lr.predict(test_scaled[:5]))"
   ]
  },
  {
   "cell_type": "code",
   "execution_count": 42,
   "metadata": {
    "colab": {
     "base_uri": "https://localhost:8080/",
     "height": 104
    },
    "colab_type": "code",
    "executionInfo": {
     "elapsed": 2467,
     "status": "ok",
     "timestamp": 1588758013560,
     "user": {
      "displayName": "Haesun Park",
      "photoUrl": "https://lh3.googleusercontent.com/a-/AOh14GhsWlS7sKQL-9fIkg3FmxpTMz_u-KDSs8y__P1ngQ=s64",
      "userId": "14935388527648823821"
     },
     "user_tz": -540
    },
    "id": "pqZosYezZOi3",
    "outputId": "2aff1e82-a054-4d6c-d4e8-8fa9418209ed"
   },
   "outputs": [
    {
     "name": "stdout",
     "output_type": "stream",
     "text": [
      "[[0.    0.014 0.841 0.    0.136 0.007 0.003]\n",
      " [0.    0.003 0.044 0.    0.007 0.946 0.   ]\n",
      " [0.    0.    0.034 0.935 0.015 0.016 0.   ]\n",
      " [0.011 0.034 0.306 0.007 0.567 0.    0.076]\n",
      " [0.    0.    0.904 0.002 0.089 0.002 0.001]]\n"
     ]
    }
   ],
   "source": [
    "proba = lr.predict_proba(test_scaled[:5]) # 예측 확률\n",
    "print(np.round(proba, decimals=3))"
   ]
  },
  {
   "cell_type": "code",
   "execution_count": 43,
   "metadata": {
    "colab": {
     "base_uri": "https://localhost:8080/",
     "height": 35
    },
    "colab_type": "code",
    "executionInfo": {
     "elapsed": 2462,
     "status": "ok",
     "timestamp": 1588758013560,
     "user": {
      "displayName": "Haesun Park",
      "photoUrl": "https://lh3.googleusercontent.com/a-/AOh14GhsWlS7sKQL-9fIkg3FmxpTMz_u-KDSs8y__P1ngQ=s64",
      "userId": "14935388527648823821"
     },
     "user_tz": -540
    },
    "id": "CXASv4WU87UF",
    "outputId": "e5a15ad8-2605-48f9-f6e2-07694478579c"
   },
   "outputs": [
    {
     "name": "stdout",
     "output_type": "stream",
     "text": [
      "['Bream' 'Parkki' 'Perch' 'Pike' 'Roach' 'Smelt' 'Whitefish']\n"
     ]
    }
   ],
   "source": [
    "print(lr.classes_)"
   ]
  },
  {
   "cell_type": "code",
   "execution_count": 47,
   "metadata": {
    "colab": {
     "base_uri": "https://localhost:8080/",
     "height": 35
    },
    "colab_type": "code",
    "executionInfo": {
     "elapsed": 2459,
     "status": "ok",
     "timestamp": 1588758013561,
     "user": {
      "displayName": "Haesun Park",
      "photoUrl": "https://lh3.googleusercontent.com/a-/AOh14GhsWlS7sKQL-9fIkg3FmxpTMz_u-KDSs8y__P1ngQ=s64",
      "userId": "14935388527648823821"
     },
     "user_tz": -540
    },
    "id": "1swPv6ZOZTjg",
    "outputId": "bf08da4b-dc82-4713-c543-042a5d9a6da9"
   },
   "outputs": [
    {
     "name": "stdout",
     "output_type": "stream",
     "text": [
      "(7, 5) (7,)\n"
     ]
    }
   ],
   "source": [
    "print(lr.coef_.shape, lr.intercept_.shape)\n",
    "# 5개의 특성을 사용하므로 5개 열\n",
    "# 행이 7개씩이다.\n",
    "# => 다중분류는 z값을 클래스마다 계산해준다.\n",
    "# 당연히 가장 높은 z값을 출력하는 클래스가 예측 클래스가 되는 거고,\n",
    "# 이진 분류에서는 시그모이드 함수를 사용해 z를 0과 1 사이의 값으로 변환\n",
    "# 다중 분류는 이와 달리 소프트맥스 함수를 사용하여 7개의 z값을 확률로 변환합니다."
   ]
  },
  {
   "cell_type": "code",
   "execution_count": 45,
   "metadata": {
    "colab": {
     "base_uri": "https://localhost:8080/",
     "height": 104
    },
    "colab_type": "code",
    "executionInfo": {
     "elapsed": 2454,
     "status": "ok",
     "timestamp": 1588758013561,
     "user": {
      "displayName": "Haesun Park",
      "photoUrl": "https://lh3.googleusercontent.com/a-/AOh14GhsWlS7sKQL-9fIkg3FmxpTMz_u-KDSs8y__P1ngQ=s64",
      "userId": "14935388527648823821"
     },
     "user_tz": -540
    },
    "id": "s9iRz1iAd7Oe",
    "outputId": "a76ad9c5-f63e-4816-e3c2-e3359a8c780f"
   },
   "outputs": [
    {
     "name": "stdout",
     "output_type": "stream",
     "text": [
      "[[ -6.5    1.03   5.16  -2.73   3.34   0.33  -0.63]\n",
      " [-10.86   1.93   4.77  -2.4    2.98   7.84  -4.26]\n",
      " [ -4.34  -6.23   3.17   6.49   2.36   2.42  -3.87]\n",
      " [ -0.68   0.45   2.65  -1.19   3.26  -5.75   1.26]\n",
      " [ -6.4   -1.99   5.82  -0.11   3.5   -0.11  -0.71]]\n"
     ]
    }
   ],
   "source": [
    "decision = lr.decision_function(test_scaled[:5])\n",
    "# 결정함수로 z1~z7까지의 값을 구한 다음\n",
    "print(np.round(decision, decimals=2))"
   ]
  },
  {
   "cell_type": "code",
   "execution_count": 46,
   "metadata": {
    "colab": {
     "base_uri": "https://localhost:8080/",
     "height": 104
    },
    "colab_type": "code",
    "executionInfo": {
     "elapsed": 2450,
     "status": "ok",
     "timestamp": 1588758013561,
     "user": {
      "displayName": "Haesun Park",
      "photoUrl": "https://lh3.googleusercontent.com/a-/AOh14GhsWlS7sKQL-9fIkg3FmxpTMz_u-KDSs8y__P1ngQ=s64",
      "userId": "14935388527648823821"
     },
     "user_tz": -540
    },
    "id": "49CcsDHZeJma",
    "outputId": "1e41ed10-e038-46f2-9f81-c9e62c8224cb"
   },
   "outputs": [
    {
     "name": "stdout",
     "output_type": "stream",
     "text": [
      "[[0.    0.014 0.841 0.    0.136 0.007 0.003]\n",
      " [0.    0.003 0.044 0.    0.007 0.946 0.   ]\n",
      " [0.    0.    0.034 0.935 0.015 0.016 0.   ]\n",
      " [0.011 0.034 0.306 0.007 0.567 0.    0.076]\n",
      " [0.    0.    0.904 0.002 0.089 0.002 0.001]]\n"
     ]
    }
   ],
   "source": [
    "from scipy.special import softmax # 소프트맥스 함수를 사용하여 확률로 바꿔보기\n",
    "                                    # 확률이니까 0~1사이로 값을 변환.\n",
    "proba = softmax(decision, axis=1)\n",
    "print(np.round(proba, decimals=3))"
   ]
  }
 ],
 "metadata": {
  "colab": {
   "authorship_tag": "ABX9TyOmMa1Tbi/tsthldu49UJII",
   "collapsed_sections": [],
   "name": "4-1 로지스틱 회귀.ipynb",
   "provenance": []
  },
  "kernelspec": {
   "display_name": "Python 3 (ipykernel)",
   "language": "python",
   "name": "python3"
  },
  "language_info": {
   "codemirror_mode": {
    "name": "ipython",
    "version": 3
   },
   "file_extension": ".py",
   "mimetype": "text/x-python",
   "name": "python",
   "nbconvert_exporter": "python",
   "pygments_lexer": "ipython3",
   "version": "3.10.9"
  }
 },
 "nbformat": 4,
 "nbformat_minor": 1
}
