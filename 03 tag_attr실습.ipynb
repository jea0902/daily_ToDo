{
 "cells": [
  {
   "cell_type": "code",
   "execution_count": 4,
   "id": "d40325cf",
   "metadata": {},
   "outputs": [
    {
     "name": "stdout",
     "output_type": "stream",
     "text": [
      "links: [<a href=\"www.naver.com\">네이버</a>, <a href=\"http://www.naver.com\">네이버</a>, <a href=\"http://www.naver.com\" target=\"_blank\">네이버 새창으로</a>, <a href=\"www.duam.net\">다음</a>, <a href=\"http://www.duam.net\">다음</a>]\n",
      "www.naver.com\n",
      "예외발생: 'target'\n",
      "\n",
      "http://www.naver.com\n",
      "예외발생: 'target'\n",
      "\n",
      "http://www.naver.com\n",
      "_blank\n",
      "\n",
      "www.duam.net\n",
      "예외발생: 'target'\n",
      "\n",
      "http://www.duam.net\n",
      "예외발생: 'target'\n",
      "\n"
     ]
    }
   ],
   "source": [
    "# 태그 자료 수집\n",
    "from bs4 import BeautifulSoup\n",
    "\n",
    "# 1. 로컬파일 가져오기\n",
    "file = open('C:/Users/Playdata/Downloads/230522_머신러닝시작/html02.html', mode = 'r', encoding='utf-8')\n",
    "source = file.read()\n",
    "# print(source)\n",
    "\n",
    "# 2. html 파싱\n",
    "html = BeautifulSoup(source, 'html.parser')\n",
    "\n",
    "# 3. tag 속성 찾기\n",
    "\n",
    "links = html.find_all('a') # list 반환\n",
    "print('links:',links)\n",
    "# print('links size=', len(links)) # dict\n",
    "\n",
    "for link in links:\n",
    "    try:\n",
    "        print(link.attrs['href']) # \n",
    "        print(link.attrs['target'])\n",
    "        print()\n",
    "    except Exception as e:\n",
    "        print(\"예외발생:\",e)\n",
    "        print()"
   ]
  },
  {
   "cell_type": "code",
   "execution_count": null,
   "id": "4c8ba285",
   "metadata": {},
   "outputs": [],
   "source": []
  }
 ],
 "metadata": {
  "kernelspec": {
   "display_name": "Python 3 (ipykernel)",
   "language": "python",
   "name": "python3"
  },
  "language_info": {
   "codemirror_mode": {
    "name": "ipython",
    "version": 3
   },
   "file_extension": ".py",
   "mimetype": "text/x-python",
   "name": "python",
   "nbconvert_exporter": "python",
   "pygments_lexer": "ipython3",
   "version": "3.10.9"
  }
 },
 "nbformat": 4,
 "nbformat_minor": 5
}
