{
 "cells": [
  {
   "cell_type": "markdown",
   "metadata": {},
   "source": [
    "자료구조는 =  ADT 추상적인 자료 구조\n",
    "\n",
    "그 중 배열 \n",
    "\n",
    "1. 스택 - 팬케이크처럼 수직으로 올린 배열 Last in First out : 마지막으로 들어간 것이 처음으로 읽히거나 삭제되는\n",
    "        '\n",
    "        = 데이터의 삽입과 삭제가 데이터의 가장 한쪽 끝에서만 일어나는 자료구조\n",
    "\n",
    "2. 큐 - 선착순 First in First out : 처음으로 들어간 것이 처음으로 읽히거나 삭제되는 \n",
    "\n",
    "        = "
   ]
  },
  {
   "cell_type": "markdown",
   "metadata": {},
   "source": [
    "### 스택 주요 메소드\n",
    "\n",
    "2-1. push, pop\n",
    "\n",
    "데이터를 삽입하는 과정을 push\n",
    "\n",
    "데이터를 삭제하는 과정을 pop - 현재 스택에 데이터가 비어있는지 여부를 먼저 확인한 후에 실행\n",
    "\n",
    "2-2. top\n",
    "\n",
    "top은 가장 마지막에 삽입한 데이터를 삭제하지 않고 return 해주는 메소드\n",
    "\n",
    "2-3. isEmpty\n",
    "\n",
    "현재 스택이 비어있는지 여부를 확인하는 메소드"
   ]
  },
  {
   "cell_type": "markdown",
   "metadata": {},
   "source": [
    "### 파이썬 리스트로 구현"
   ]
  },
  {
   "cell_type": "code",
   "execution_count": 1,
   "metadata": {},
   "outputs": [],
   "source": [
    "class Stack():\n",
    "    def __init__(self):\n",
    "        self.stack = []\n",
    "        \n",
    "    def push(self,data): # list으 append 메소드를 활용해서 구현\n",
    "        self.stack.append(data)\n",
    "    \n",
    "    def pop(self):\n",
    "        pop_object = None  # pop은 stack이 비어있는지 isEmpty 메소드를 활용하여 확인하고 비어있으면 메시지 출력하고 None을 리턴하고.,\n",
    "        if self.isEmpty():   # 비어있지 않으면 list의 pop메소드를 활용하여 현재 stack에서 가장 마지막에 삽입된 값을 꺼내 return하도록.\n",
    "            print('Stack is Empty')\n",
    "        else:\n",
    "            pop_object = self.stack.pop()\n",
    "        \n",
    "        return pop_object\n",
    "    \n",
    "    def top(self):\n",
    "        top_object = None              # top도 비어있는지 확인후 비어있으면 메시지, None 리턴\n",
    "        if self.isEmpty():                   # 비어있지 않다면 list의 가장 마지막값을 인덱스 -1을 활용하여 값만 가져와 return하도록\n",
    "            print('Stack is Empty')\n",
    "        else:\n",
    "            top_object = self.stack[-1]\n",
    "        return top_object\n",
    "    \n",
    "    def isEmpty(self):                # 스택의 값이 하나도 없을 경우 True, 값이 있을 경우 False를 return하도록\n",
    "        is_empty = False\n",
    "        if len(self.stack) == 0:\n",
    "            is_empty = True\n",
    "        return is_empty"
   ]
  },
  {
   "cell_type": "markdown",
   "metadata": {},
   "source": [
    "### 파이썬 Singly Linked List로 구현"
   ]
  },
  {
   "cell_type": "code",
   "execution_count": null,
   "metadata": {},
   "outputs": [],
   "source": [
    "class Node:\n",
    "    def __init__(self, data):\n",
    "        self.data = data\n",
    "        self.next = None\n",
    "\n",
    "    # Node부터 정의. 각각의 노드는 data와 next로 구성\n",
    "    \n",
    "class LinkedListStack():\n",
    "    def __init__(self):\n",
    "        self.head = None\n",
    "        \n",
    "    def push(self, data):\n",
    "        new_node = Node(data)    #push는 먼저 새로 데이터를 담은 노드를 먼저 생성 -> 이 노드의 next에 현재 리스트의 head를 연결\n",
    "        new_node.next = self.head          # -> self.head에 새로운 데이터를 담은 노드를 연결\n",
    "        self.head = new_node\n",
    "        \n",
    "    def pop(self):\n",
    "        pop_object = None        # pop은 isEmpty 메소드를 통해 스택이 비어있는지 확인하고 비어있다면 메시지 출력\n",
    "        if self.isEmpty():  # 비어있지 않다면 head노드 데이터를 꺼내온 뒤 head의 self의 next 노드를 넣어주고 아까 꺼낸 데이터를 return\n",
    "            print(\"Stack is Empty\")\n",
    "        else:\n",
    "            pop_object = self.head.data\n",
    "            self.head = self.head.next\n",
    "        return pop_object\n",
    "    \n",
    "    def top(self):\n",
    "        top_object = None\n",
    "        if self.isEmpty():             # 비어있지 않다면 head노드의 데이터를 꺼내와 returb\n",
    "            print(\"Stack is Empty\")\n",
    "        else:\n",
    "            top_object = self.head.data            \n",
    "        return top_object\n",
    "    \n",
    "    def isEmpty(self):\n",
    "        is_empty = False\n",
    "        if self.head is None:\n",
    "            is_empty = True\n",
    "        return is_empty"
   ]
  },
  {
   "cell_type": "markdown",
   "metadata": {},
   "source": [
    "### 큐 주요 메소드\n",
    "2-1. enqueue, dequeue\n",
    "\n",
    "데이터를 삽입하는 과정을 enqueue\n",
    "\n",
    "가장 먼저 삽입한 데이터를 빼서 사용하는 과정을 dequeue\n",
    "\n",
    "2-2. peek\n",
    "\n",
    "맨 앞에 위치한 데이터를 꺼내지 않고 어떤 값인지 return하는 메소드\n",
    "\n",
    "2-3. isEmpty \n",
    "\n",
    "현재 큐가 비어있는지 확인하는 메소드"
   ]
  },
  {
   "cell_type": "markdown",
   "metadata": {},
   "source": [
    "### 파이썬 리스트로 구현"
   ]
  },
  {
   "cell_type": "code",
   "execution_count": 2,
   "metadata": {},
   "outputs": [],
   "source": [
    "class Queue():\n",
    "    def __init__(self):\n",
    "        self.queue = []\n",
    "        \n",
    "    def enqueue(self, data):\n",
    "        self.queue.append(data)\n",
    "        \n",
    "    def dequeue(self):\n",
    "        dequeue_object = None\n",
    "        if self.isEmpty():\n",
    "            print(\"Queue is Empty\")\n",
    "        else:\n",
    "            dequeue_object = self.queue[0]\n",
    "            self.queue = self.queue[1:]\n",
    "            \n",
    "        return dequeue_object\n",
    "            \n",
    "    def peek(self):\n",
    "        peek_object = None\n",
    "        if self.isEmpty():\n",
    "            print(\"Queue is Empty\")\n",
    "        else:\n",
    "            peek_object = self.queue[0]\n",
    "            \n",
    "        return peek_object\n",
    "            \n",
    "    def isEmpty(self):\n",
    "        is_empty = False\n",
    "        if len(self.queue) == 0:\n",
    "            is_empty = True\n",
    "        return is_empty"
   ]
  },
  {
   "cell_type": "markdown",
   "metadata": {},
   "source": [
    "### 파이썬 Singly Linked List로 구현"
   ]
  },
  {
   "cell_type": "code",
   "execution_count": 4,
   "metadata": {},
   "outputs": [],
   "source": [
    "class Node:\n",
    "    def __init__(self, data):\n",
    "        self.data = data\n",
    "        self.next = None\n",
    "\n",
    "class LinkedListQueue():\n",
    "    def __init__(self):\n",
    "        self.front = None\n",
    "        self.rear = None\n",
    "        \n",
    "    def enqueue(self, data):\n",
    "        new_node = Node(data)\n",
    "        \n",
    "        if self.front is None:\n",
    "            self.front = new_node\n",
    "            self.rear = new_node\n",
    "        else:\n",
    "            self.rear.next = new_node\n",
    "            self.rear = self.rear.next\n",
    "        \n",
    "    def dequeue(self):\n",
    "        dequeue_object = None\n",
    "        if self.isEmpty():\n",
    "            print(\"Queue is Empty\")\n",
    "        else:\n",
    "            dequeue_object = self.front.data\n",
    "            self.front = self.front.next\n",
    "            \n",
    "        if self.front is None:\n",
    "            self.rear = None\n",
    "        return dequeue_object\n",
    "    \n",
    "    def peek(self):\n",
    "        front_object = None\n",
    "        if self.isEmpty():\n",
    "            print(\"Queue is Empty\")\n",
    "        else:\n",
    "            front_object = self.front.data            \n",
    "        return front_object\n",
    "    \n",
    "    def isEmpty(self):\n",
    "        is_empty = False\n",
    "        if self.front is None:\n",
    "            is_empty = True\n",
    "        return is_empty"
   ]
  },
  {
   "cell_type": "code",
   "execution_count": null,
   "metadata": {},
   "outputs": [],
   "source": []
  }
 ],
 "metadata": {
  "kernelspec": {
   "display_name": "Python 3",
   "language": "python",
   "name": "python3"
  },
  "language_info": {
   "codemirror_mode": {
    "name": "ipython",
    "version": 3
   },
   "file_extension": ".py",
   "mimetype": "text/x-python",
   "name": "python",
   "nbconvert_exporter": "python",
   "pygments_lexer": "ipython3",
   "version": "3.8.3"
  }
 },
 "nbformat": 4,
 "nbformat_minor": 4
}
