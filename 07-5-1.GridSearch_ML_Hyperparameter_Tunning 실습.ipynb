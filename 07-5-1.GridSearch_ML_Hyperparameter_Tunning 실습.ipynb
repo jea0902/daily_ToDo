{
 "cells": [
  {
   "cell_type": "markdown",
   "id": "8d642798",
   "metadata": {},
   "source": [
    "## GridSearch를 이용한 머신러닝 Hyperparameter 튜닝"
   ]
  },
  {
   "cell_type": "markdown",
   "id": "0ceabbbb",
   "metadata": {},
   "source": [
    "### [GridSearch를 이용한 머신러닝 Hyperparameter 튜닝](https://teddylee777.github.io/scikit-learn/grid-search-%EB%A1%9C-hyperparameter%EC%B5%9C%EC%A0%81%ED%99%94)"
   ]
  },
  {
   "cell_type": "code",
   "execution_count": null,
   "id": "9710d3f2",
   "metadata": {},
   "outputs": [],
   "source": [
    "### [GridSearch를 이용한 머신러닝 Hyperparameter 튜닝](https://teddylee777.github.io/scikit-learn/grid-search-%EB%A1%9C-hyperparameter%EC%B5%9C%EC%A0%81%ED%99%94)"
   ]
  },
  {
   "cell_type": "code",
   "execution_count": null,
   "id": "5424bd1a",
   "metadata": {},
   "outputs": [],
   "source": [
    "# 파라미터 vs 하이퍼 파라미터\n",
    "\n",
    "# 파라미터는 일반 함수에서 결과값을 얻기 위해 넣어야 하는 요소\n",
    "\n",
    "# 둘의 차이점을 머신러닝,딥러닝 알고리즘의 범위로 제한한다면,\n",
    "# 파라미터들은 측정되거나 데이터로부터 학습되어지는 요소들을 의미하고,\n",
    "# 파라미터는 수작업으로 이루어지지않는다.\n",
    "\n",
    "# 하이퍼 파라미터는 머신,딥 알고리즘에서 쓰이는 용어.\n",
    "# 이것들은 대부분 해당 알고리즘이 어떻게 학습해야하는지에\n",
    "# 대한 설정을 해주기 위해 사용자가 직접 값을 입력해 주어야 하는 요소들."
   ]
  },
  {
   "cell_type": "markdown",
   "id": "1851d04e",
   "metadata": {},
   "source": [
    "- Hyperparameter 튜닝을 위해서는 다양한 방법론이 존재합니다. \n",
    "- 가장 쉬운 방법으로는 수작업 튜닝, RandomSearch, GridSearch, HyperOpt 등\n",
    "\n",
    "- 사람이 직접 손튜닝을 하다보면, 실수를 할 수도 있고, 시간과 정신적 소모가 매우 큽니다.\n",
    "- 컴퓨터 자원을 활용하여 Hyperparameter를 찾아가는 과정을 자동화하면 컴퓨터는 Best Parameter를 우리에게 제시해 줍니다.\n",
    "\n",
    "- GridSearch에 대하여 알아보고 이를 통해 Hyperparameter의 Best Parameter를 찾는 과정을 학습하겠습니다."
   ]
  },
  {
   "cell_type": "markdown",
   "id": "3999bbc6",
   "metadata": {},
   "source": [
    "### GridSearch?\n",
    "- GridSearch 는 우리가 지정해준 몇 가지 잠재적 Parameter들의 후보군들의 조합 중에서 가장 Best 조합을 찾아줍니다. \n",
    "- 어떻게 보면 우리가 하나하나 대입해 가면서 loss를 확인하는 작업을 GridSearch는 대신 해준다고 보면 됩니다. \n",
    "- sklearn 패키지에서 제공해주고 있기때문에 매우 손쉽게 사용할 수 있습니다.\n",
    "- 가장 큰 단점은 우리가 지정해 준 hyperparameter 후보군의 갯수만큼 비례하여 시간이 늘어기 때문에 최적의 조합을 찾을 때까지 시간이 매우 오래 걸린다는 단점이 있습니다."
   ]
  },
  {
   "cell_type": "markdown",
   "id": "a507bb5d",
   "metadata": {},
   "source": [
    "### GridSearch 활용 예제\n",
    "GridSearch는 sklearn 패키지의 model_selection에 있습니다.\n",
    "\n"
   ]
  },
  {
   "cell_type": "code",
   "execution_count": 1,
   "id": "f5acf7f9",
   "metadata": {},
   "outputs": [],
   "source": [
    "from sklearn.model_selection import GridSearchCV\n",
    "from sklearn.ensemble import RandomForestRegressor\n",
    "from sklearn.datasets import load_iris # 샘플 데이터 로딩\n",
    "from sklearn.model_selection import train_test_split"
   ]
  },
  {
   "cell_type": "code",
   "execution_count": 2,
   "id": "c5793c9d",
   "metadata": {},
   "outputs": [],
   "source": [
    "param_grid = {\n",
    "    'n_estimators': [100, 150, 200, 250],\n",
    "    'max_depth': [None, 6, 9, 12],\n",
    "    'min_samples_split': [0.01, 0.05, 0.1],\n",
    "    'max_features': ['auto', 'sqrt'],\n",
    "}"
   ]
  },
  {
   "cell_type": "code",
   "execution_count": 3,
   "id": "f4b08925",
   "metadata": {},
   "outputs": [],
   "source": [
    "# 적용할 estimator (모델)를 정의\n",
    "estimator = RandomForestRegressor()"
   ]
  },
  {
   "cell_type": "code",
   "execution_count": 4,
   "id": "84bd3f8d",
   "metadata": {},
   "outputs": [],
   "source": [
    "from sklearn.model_selection import KFold\n",
    "\n",
    "kf = KFold(random_state=30,\n",
    "           n_splits=10,\n",
    "           shuffle=True,\n",
    "          )"
   ]
  },
  {
   "cell_type": "code",
   "execution_count": 5,
   "id": "2a7c130d",
   "metadata": {},
   "outputs": [],
   "source": [
    "grid_search = GridSearchCV(estimator=estimator, \n",
    "                           param_grid=param_grid, \n",
    "                           cv=kf, \n",
    "                           n_jobs=-1, \n",
    "                           verbose=2\n",
    "                          )"
   ]
  },
  {
   "cell_type": "code",
   "execution_count": 6,
   "id": "806a8425",
   "metadata": {},
   "outputs": [
    {
     "ename": "AttributeError",
     "evalue": "'GridSearchCV' object has no attribute 'best_params_'",
     "output_type": "error",
     "traceback": [
      "\u001b[1;31m---------------------------------------------------------------------------\u001b[0m",
      "\u001b[1;31mAttributeError\u001b[0m                            Traceback (most recent call last)",
      "Cell \u001b[1;32mIn[6], line 2\u001b[0m\n\u001b[0;32m      1\u001b[0m \u001b[38;5;66;03m# Best Parameter의 결과값 확인\u001b[39;00m\n\u001b[1;32m----> 2\u001b[0m \u001b[43mgrid_search\u001b[49m\u001b[38;5;241;43m.\u001b[39;49m\u001b[43mbest_params_\u001b[49m\n",
      "\u001b[1;31mAttributeError\u001b[0m: 'GridSearchCV' object has no attribute 'best_params_'"
     ]
    }
   ],
   "source": [
    "# Best Parameter의 결과값 확인\n",
    "grid_search.best_params_"
   ]
  },
  {
   "cell_type": "code",
   "execution_count": null,
   "id": "3837d42a",
   "metadata": {},
   "outputs": [],
   "source": []
  }
 ],
 "metadata": {
  "kernelspec": {
   "display_name": "Python 3 (ipykernel)",
   "language": "python",
   "name": "python3"
  },
  "language_info": {
   "codemirror_mode": {
    "name": "ipython",
    "version": 3
   },
   "file_extension": ".py",
   "mimetype": "text/x-python",
   "name": "python",
   "nbconvert_exporter": "python",
   "pygments_lexer": "ipython3",
   "version": "3.10.9"
  }
 },
 "nbformat": 4,
 "nbformat_minor": 5
}
