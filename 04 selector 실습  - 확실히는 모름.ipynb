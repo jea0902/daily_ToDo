{
 "cells": [
  {
   "cell_type": "code",
   "execution_count": 2,
   "id": "59c44c7f",
   "metadata": {},
   "outputs": [],
   "source": [
    "# 선택자 이용 내용 추출\n",
    "from bs4 import BeautifulSoup\n",
    "\n",
    "# 1. html source 가져오기\n",
    "file = open('C:/Users/Playdata/Downloads/230522_머신러닝시작/html03.html', mode='r', encoding='utf-8')\n",
    "source = file.read()\n",
    "\n",
    "# 2. html 파싱\n",
    "html = BeautifulSoup(source,'html.parser')"
   ]
  },
  {
   "cell_type": "code",
   "execution_count": 3,
   "id": "5e86aed3",
   "metadata": {},
   "outputs": [
    {
     "name": "stdout",
     "output_type": "stream",
     "text": [
      ">> table 선택자 <<\n",
      "<table border=\"1\" id=\"tab\">\n",
      "<tr> <!-- 1행 -->\n",
      "<!-- 제목 열 : th -->\n",
      "<th id=\"id\"> 학번 </th>\n",
      "<th id=\"name\"> 이름 </th>\n",
      "<th id=\"major\"> 학과 </th>\n",
      "<th id=\"email\"> 이메일 </th>\n",
      "</tr>\n",
      "<tr> <!-- 2행 -->\n",
      "<td> 201601 </td>\n",
      "<td> 홍길동 </td>\n",
      "<td> 체육학과 </td>\n",
      "<td> hong@naver.com </td>\n",
      "</tr>\n",
      "<tr class=\"odd\"> <!-- 3행(홀수) -->\n",
      "<td> 201602 </td>\n",
      "<td> 이순신 </td>\n",
      "<td> 해양학과 </td>\n",
      "<td> lee@naver.com </td>\n",
      "</tr>\n",
      "<tr> <!-- 4행 -->\n",
      "<td> 201603 </td>\n",
      "<td> 강감찬 </td>\n",
      "<td> 정치외교 </td>\n",
      "<td> kang@naver.com </td>\n",
      "</tr>\n",
      "<tr class=\"odd\"> <!-- 5행 -->\n",
      "<td> 201604 </td>\n",
      "<td> 유관순 </td>\n",
      "<td> 유아교육 </td>\n",
      "<td> you@naver.com </td>\n",
      "</tr>\n",
      "</table>\n"
     ]
    }
   ],
   "source": [
    "# 3. 선택자 이용 태그 내용 가져오기\n",
    "    # id 선택자\n",
    "print('>> table 선택자 <<')\n",
    "table = html.select_one('#tab') # <table id = 'tab'>\n",
    "print(table)"
   ]
  },
  {
   "cell_type": "code",
   "execution_count": 4,
   "id": "a333442a",
   "metadata": {},
   "outputs": [],
   "source": [
    "# th 내용 출력\n",
    "ths = table.find_all('th') # list"
   ]
  },
  {
   "cell_type": "code",
   "execution_count": 5,
   "id": "50ae3f00",
   "metadata": {},
   "outputs": [
    {
     "name": "stdout",
     "output_type": "stream",
     "text": [
      " 학번 \n",
      " 이름 \n",
      " 학과 \n",
      " 이메일 \n"
     ]
    }
   ],
   "source": [
    "for th in ths:\n",
    "    print(th.string)"
   ]
  },
  {
   "cell_type": "code",
   "execution_count": 6,
   "id": "f763fa51",
   "metadata": {},
   "outputs": [
    {
     "name": "stdout",
     "output_type": "stream",
     "text": [
      "<< 선택자 & 계층 >>\n",
      "[<th id=\"id\"> 학번 </th>, <th id=\"name\"> 이름 </th>, <th id=\"major\"> 학과 </th>, <th id=\"email\"> 이메일 </th>]\n"
     ]
    }
   ],
   "source": [
    "print(\"<< 선택자 & 계층 >>\")\n",
    "ths = html.select('#tab > tr > th')\n",
    "print(ths) # 리스트"
   ]
  },
  {
   "cell_type": "code",
   "execution_count": 7,
   "id": "a744f709",
   "metadata": {},
   "outputs": [
    {
     "name": "stdout",
     "output_type": "stream",
     "text": [
      " 학번 \n",
      " 이름 \n",
      " 학과 \n",
      " 이메일 \n"
     ]
    }
   ],
   "source": [
    "for th in ths:\n",
    "    print(th.string)"
   ]
  },
  {
   "cell_type": "code",
   "execution_count": 8,
   "id": "f3666629",
   "metadata": {},
   "outputs": [
    {
     "name": "stdout",
     "output_type": "stream",
     "text": [
      "[<tr class=\"odd\"> <!-- 3행(홀수) -->\n",
      "<td> 201602 </td>\n",
      "<td> 이순신 </td>\n",
      "<td> 해양학과 </td>\n",
      "<td> lee@naver.com </td>\n",
      "</tr>, <tr class=\"odd\"> <!-- 5행 -->\n",
      "<td> 201604 </td>\n",
      "<td> 유관순 </td>\n",
      "<td> 유아교육 </td>\n",
      "<td> you@naver.com </td>\n",
      "</tr>]\n"
     ]
    }
   ],
   "source": [
    "# 2. class 선택자 : tr tag class='odd'\n",
    "trs = html.select(\"#tab > .odd\") # 홀수행\n",
    "print(trs)"
   ]
  },
  {
   "cell_type": "code",
   "execution_count": 9,
   "id": "597c3c54",
   "metadata": {},
   "outputs": [
    {
     "name": "stdout",
     "output_type": "stream",
     "text": [
      "### tr > td 출력 ###\n",
      "<tr class=\"odd\"> <!-- 3행(홀수) -->\n",
      "<td> 201602 </td>\n",
      "<td> 이순신 </td>\n",
      "<td> 해양학과 </td>\n",
      "<td> lee@naver.com </td>\n",
      "</tr>\n",
      " 201602 \n",
      " 이순신 \n",
      " 해양학과 \n",
      " lee@naver.com \n",
      "<tr class=\"odd\"> <!-- 5행 -->\n",
      "<td> 201604 </td>\n",
      "<td> 유관순 </td>\n",
      "<td> 유아교육 </td>\n",
      "<td> you@naver.com </td>\n",
      "</tr>\n",
      " 201604 \n",
      " 유관순 \n",
      " 유아교육 \n",
      " you@naver.com \n"
     ]
    }
   ],
   "source": [
    "print(\"### tr > td 출력 ###\")\n",
    "for tr in trs: # 행 : 2회 반복\n",
    "    print(tr)\n",
    "    tds = tr.find_all('td')\n",
    "    for td in tds: # 열\n",
    "        print(td.string)\n",
    "    "
   ]
  },
  {
   "cell_type": "code",
   "execution_count": null,
   "id": "195ba5a2",
   "metadata": {},
   "outputs": [],
   "source": [
    "# 3) 태그(속성=값) 찾기\n",
    "trs = html.select('tr[class=odd]')\n",
    "print('### tr > td 출력 ###')\n",
    "\n",
    "for tr in trs: # 행 : 2회 반복\n",
    "    print(tr)\n",
    "    tds = tr.find_all('td')\n",
    "    for td in tds: # 열\n",
    "        print(td.string)"
   ]
  }
 ],
 "metadata": {
  "kernelspec": {
   "display_name": "Python 3 (ipykernel)",
   "language": "python",
   "name": "python3"
  },
  "language_info": {
   "codemirror_mode": {
    "name": "ipython",
    "version": 3
   },
   "file_extension": ".py",
   "mimetype": "text/x-python",
   "name": "python",
   "nbconvert_exporter": "python",
   "pygments_lexer": "ipython3",
   "version": "3.10.9"
  }
 },
 "nbformat": 4,
 "nbformat_minor": 5
}
