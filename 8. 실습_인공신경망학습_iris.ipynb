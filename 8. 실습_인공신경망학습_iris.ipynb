{
 "cells": [
  {
   "cell_type": "markdown",
   "id": "d73d6302",
   "metadata": {
    "id": "A4GbEm6xjkzA"
   },
   "source": [
    "# 6.3 실습 - 인공신경망 학습\n",
    "\n",
    "## 6.3.1 인공신경망 학습하기 - 기본(iris데이터로)"
   ]
  },
  {
   "cell_type": "code",
   "execution_count": 2,
   "id": "2d86b3df",
   "metadata": {},
   "outputs": [],
   "source": [
    "import numpy as np\n",
    "import pandas as pd\n",
    "import matplotlib.pyplot as plt\n",
    "import seaborn as sns\n",
    "\n",
    "from sklearn.datasets import load_iris\n",
    "from sklearn.model_selection import train_test_split\n",
    "\n",
    "import tensorflow as tf\n",
    "\n",
    "from tensorflow.keras.models import Sequential\n",
    "from tensorflow.keras.layers import Dense"
   ]
  },
  {
   "cell_type": "code",
   "execution_count": 3,
   "id": "5f73a8a9",
   "metadata": {},
   "outputs": [
    {
     "data": {
      "text/plain": [
       "'2.10.0'"
      ]
     },
     "execution_count": 3,
     "metadata": {},
     "output_type": "execute_result"
    }
   ],
   "source": [
    "tf.__version__"
   ]
  },
  {
   "cell_type": "code",
   "execution_count": 5,
   "id": "e2d87d07",
   "metadata": {},
   "outputs": [
    {
     "ename": "SyntaxError",
     "evalue": "cannot assign to function call here. Maybe you meant '==' instead of '='? (2350477864.py, line 4)",
     "output_type": "error",
     "traceback": [
      "\u001b[1;36m  Cell \u001b[1;32mIn[5], line 4\u001b[1;36m\u001b[0m\n\u001b[1;33m    df('label') = iris.target\u001b[0m\n\u001b[1;37m    ^\u001b[0m\n\u001b[1;31mSyntaxError\u001b[0m\u001b[1;31m:\u001b[0m cannot assign to function call here. Maybe you meant '==' instead of '='?\n"
     ]
    }
   ],
   "source": [
    "# 데이터 불러오기\n",
    "iris = load_iris()\n",
    "df = pd.DataFrame(data = iris.data, columns = iris.feature_names)\n",
    "df('label') = iris.target"
   ]
  },
  {
   "cell_type": "code",
   "execution_count": 6,
   "id": "c6b193c1",
   "metadata": {},
   "outputs": [],
   "source": [
    "# 데이터 불러오기\n",
    "iris = load_iris()\n",
    "df = pd.DataFrame(data=iris.data, columns=iris.feature_names)\n",
    "df['label'] = iris.target"
   ]
  },
  {
   "cell_type": "code",
   "execution_count": 7,
   "id": "a34a144b",
   "metadata": {},
   "outputs": [],
   "source": [
    "# 데이터 분할\n",
    "y = df['label']\n",
    "X = df.drop(['label'],axis=1)\n",
    "\n",
    "X_train, X_test, y_train, y_test = train_test_split(X, y, random_state=42, stratify=y)"
   ]
  },
  {
   "cell_type": "code",
   "execution_count": 8,
   "id": "5d4414ca",
   "metadata": {},
   "outputs": [
    {
     "data": {
      "text/plain": [
       "(112, 4)"
      ]
     },
     "execution_count": 8,
     "metadata": {},
     "output_type": "execute_result"
    }
   ],
   "source": [
    "X_train.shape"
   ]
  },
  {
   "cell_type": "code",
   "execution_count": 12,
   "id": "68b51fe6",
   "metadata": {},
   "outputs": [],
   "source": [
    "# 모델의 설정 (모델 만들고, 층 만들어서)\n",
    "model = Sequential()\n",
    "model.add(Dense(8, input_dim=4, activation='relu'))\n",
    "model.add(Dense(3, activation='softmax'))"
   ]
  },
  {
   "cell_type": "code",
   "execution_count": 13,
   "id": "83cd6f94",
   "metadata": {},
   "outputs": [
    {
     "ename": "AttributeError",
     "evalue": "'Sequential' object has no attribute 'complie'",
     "output_type": "error",
     "traceback": [
      "\u001b[1;31m---------------------------------------------------------------------------\u001b[0m",
      "\u001b[1;31mAttributeError\u001b[0m                            Traceback (most recent call last)",
      "Cell \u001b[1;32mIn[13], line 2\u001b[0m\n\u001b[0;32m      1\u001b[0m \u001b[38;5;66;03m# 모델 컴파일\u001b[39;00m\n\u001b[1;32m----> 2\u001b[0m \u001b[43mmodel\u001b[49m\u001b[38;5;241;43m.\u001b[39;49m\u001b[43mcomplie\u001b[49m(loss\u001b[38;5;241m=\u001b[39m\u001b[38;5;124m'\u001b[39m\u001b[38;5;124msparse_categorical_crossentropy\u001b[39m\u001b[38;5;124m'\u001b[39m,\n\u001b[0;32m      3\u001b[0m              optimizer\u001b[38;5;241m=\u001b[39m\u001b[38;5;124m'\u001b[39m\u001b[38;5;124madam\u001b[39m\u001b[38;5;124m'\u001b[39m,\n\u001b[0;32m      4\u001b[0m              metrics\u001b[38;5;241m=\u001b[39m[\u001b[38;5;124m'\u001b[39m\u001b[38;5;124maccuracy\u001b[39m\u001b[38;5;124m'\u001b[39m])\n",
      "\u001b[1;31mAttributeError\u001b[0m: 'Sequential' object has no attribute 'complie'"
     ]
    }
   ],
   "source": [
    "# 모델 컴파일\n",
    "model.complie(loss='sparse_categorical_crossentropy',\n",
    "             optimizer='adam',\n",
    "             metrics=['accuracy'])"
   ]
  },
  {
   "cell_type": "code",
   "execution_count": 14,
   "id": "ca82df2e",
   "metadata": {},
   "outputs": [],
   "source": [
    "# 모델 컴파일 (손실함수, 옵티마이저, 정확도)\n",
    "model.compile(loss='sparse_categorical_crossentropy',\n",
    "            optimizer='adam',\n",
    "            metrics=['accuracy'])"
   ]
  },
  {
   "cell_type": "code",
   "execution_count": 15,
   "id": "edceb2d6",
   "metadata": {},
   "outputs": [
    {
     "name": "stdout",
     "output_type": "stream",
     "text": [
      "Model: \"sequential_2\"\n",
      "_________________________________________________________________\n",
      " Layer (type)                Output Shape              Param #   \n",
      "=================================================================\n",
      " dense_2 (Dense)             (None, 8)                 40        \n",
      "                                                                 \n",
      " dense_3 (Dense)             (None, 3)                 27        \n",
      "                                                                 \n",
      "=================================================================\n",
      "Total params: 67\n",
      "Trainable params: 67\n",
      "Non-trainable params: 0\n",
      "_________________________________________________________________\n"
     ]
    }
   ],
   "source": [
    "model.summary()"
   ]
  },
  {
   "cell_type": "code",
   "execution_count": 16,
   "id": "55c099be",
   "metadata": {},
   "outputs": [
    {
     "name": "stdout",
     "output_type": "stream",
     "text": [
      "Epoch 1/50\n",
      "28/28 [==============================] - 0s 1ms/step - loss: 1.3683 - accuracy: 0.3304\n",
      "Epoch 2/50\n",
      "28/28 [==============================] - 0s 2ms/step - loss: 1.1558 - accuracy: 0.5625\n",
      "Epoch 3/50\n",
      "28/28 [==============================] - 0s 2ms/step - loss: 1.0012 - accuracy: 0.6696\n",
      "Epoch 4/50\n",
      "28/28 [==============================] - 0s 1ms/step - loss: 0.8934 - accuracy: 0.6696\n",
      "Epoch 5/50\n",
      "28/28 [==============================] - 0s 1ms/step - loss: 0.8101 - accuracy: 0.6696\n",
      "Epoch 6/50\n",
      "28/28 [==============================] - 0s 2ms/step - loss: 0.7483 - accuracy: 0.6696\n",
      "Epoch 7/50\n",
      "28/28 [==============================] - 0s 2ms/step - loss: 0.7003 - accuracy: 0.6696\n",
      "Epoch 8/50\n",
      "28/28 [==============================] - 0s 2ms/step - loss: 0.6592 - accuracy: 0.6696\n",
      "Epoch 9/50\n",
      "28/28 [==============================] - 0s 2ms/step - loss: 0.6235 - accuracy: 0.6696\n",
      "Epoch 10/50\n",
      "28/28 [==============================] - 0s 1ms/step - loss: 0.5916 - accuracy: 0.6696\n",
      "Epoch 11/50\n",
      "28/28 [==============================] - 0s 1ms/step - loss: 0.5635 - accuracy: 0.6696\n",
      "Epoch 12/50\n",
      "28/28 [==============================] - 0s 1ms/step - loss: 0.5397 - accuracy: 0.6696\n",
      "Epoch 13/50\n",
      "28/28 [==============================] - 0s 1ms/step - loss: 0.5197 - accuracy: 0.6696\n",
      "Epoch 14/50\n",
      "28/28 [==============================] - 0s 2ms/step - loss: 0.5023 - accuracy: 0.6696\n",
      "Epoch 15/50\n",
      "28/28 [==============================] - 0s 2ms/step - loss: 0.4885 - accuracy: 0.6696\n",
      "Epoch 16/50\n",
      "28/28 [==============================] - 0s 1ms/step - loss: 0.4772 - accuracy: 0.6696\n",
      "Epoch 17/50\n",
      "28/28 [==============================] - 0s 1ms/step - loss: 0.4693 - accuracy: 0.6696\n",
      "Epoch 18/50\n",
      "28/28 [==============================] - 0s 1ms/step - loss: 0.4604 - accuracy: 0.6696\n",
      "Epoch 19/50\n",
      "28/28 [==============================] - 0s 1ms/step - loss: 0.4547 - accuracy: 0.6696\n",
      "Epoch 20/50\n",
      "28/28 [==============================] - 0s 1ms/step - loss: 0.4492 - accuracy: 0.6696\n",
      "Epoch 21/50\n",
      "28/28 [==============================] - 0s 1ms/step - loss: 0.4444 - accuracy: 0.6696\n",
      "Epoch 22/50\n",
      "28/28 [==============================] - 0s 2ms/step - loss: 0.4412 - accuracy: 0.6875\n",
      "Epoch 23/50\n",
      "28/28 [==============================] - 0s 1ms/step - loss: 0.4369 - accuracy: 0.6964\n",
      "Epoch 24/50\n",
      "28/28 [==============================] - 0s 1ms/step - loss: 0.4327 - accuracy: 0.6964\n",
      "Epoch 25/50\n",
      "28/28 [==============================] - 0s 1ms/step - loss: 0.4290 - accuracy: 0.6964\n",
      "Epoch 26/50\n",
      "28/28 [==============================] - 0s 2ms/step - loss: 0.4251 - accuracy: 0.7054\n",
      "Epoch 27/50\n",
      "28/28 [==============================] - 0s 2ms/step - loss: 0.4223 - accuracy: 0.7500\n",
      "Epoch 28/50\n",
      "28/28 [==============================] - 0s 1ms/step - loss: 0.4203 - accuracy: 0.7321\n",
      "Epoch 29/50\n",
      "28/28 [==============================] - 0s 1ms/step - loss: 0.4168 - accuracy: 0.7321\n",
      "Epoch 30/50\n",
      "28/28 [==============================] - 0s 1ms/step - loss: 0.4131 - accuracy: 0.7589\n",
      "Epoch 31/50\n",
      "28/28 [==============================] - 0s 1ms/step - loss: 0.4113 - accuracy: 0.7500\n",
      "Epoch 32/50\n",
      "28/28 [==============================] - 0s 1ms/step - loss: 0.4087 - accuracy: 0.7768\n",
      "Epoch 33/50\n",
      "28/28 [==============================] - 0s 1ms/step - loss: 0.4068 - accuracy: 0.7500\n",
      "Epoch 34/50\n",
      "28/28 [==============================] - 0s 2ms/step - loss: 0.4040 - accuracy: 0.7679\n",
      "Epoch 35/50\n",
      "28/28 [==============================] - 0s 1ms/step - loss: 0.4023 - accuracy: 0.7857\n",
      "Epoch 36/50\n",
      "28/28 [==============================] - 0s 1ms/step - loss: 0.4004 - accuracy: 0.7589\n",
      "Epoch 37/50\n",
      "28/28 [==============================] - 0s 1ms/step - loss: 0.3970 - accuracy: 0.7946\n",
      "Epoch 38/50\n",
      "28/28 [==============================] - 0s 2ms/step - loss: 0.3950 - accuracy: 0.7768\n",
      "Epoch 39/50\n",
      "28/28 [==============================] - 0s 1ms/step - loss: 0.3932 - accuracy: 0.8304\n",
      "Epoch 40/50\n",
      "28/28 [==============================] - 0s 1ms/step - loss: 0.3918 - accuracy: 0.7857\n",
      "Epoch 41/50\n",
      "28/28 [==============================] - 0s 1ms/step - loss: 0.3899 - accuracy: 0.7857\n",
      "Epoch 42/50\n",
      "28/28 [==============================] - 0s 987us/step - loss: 0.3871 - accuracy: 0.8214\n",
      "Epoch 43/50\n",
      "28/28 [==============================] - 0s 1ms/step - loss: 0.3860 - accuracy: 0.8304\n",
      "Epoch 44/50\n",
      "28/28 [==============================] - 0s 999us/step - loss: 0.3834 - accuracy: 0.8571\n",
      "Epoch 45/50\n",
      "28/28 [==============================] - 0s 1ms/step - loss: 0.3809 - accuracy: 0.8304\n",
      "Epoch 46/50\n",
      "28/28 [==============================] - 0s 1ms/step - loss: 0.3799 - accuracy: 0.8036\n",
      "Epoch 47/50\n",
      "28/28 [==============================] - 0s 1ms/step - loss: 0.3785 - accuracy: 0.8661\n",
      "Epoch 48/50\n",
      "28/28 [==============================] - 0s 2ms/step - loss: 0.3746 - accuracy: 0.8839\n",
      "Epoch 49/50\n",
      "28/28 [==============================] - 0s 1ms/step - loss: 0.3726 - accuracy: 0.8750\n",
      "Epoch 50/50\n",
      "28/28 [==============================] - 0s 1ms/step - loss: 0.3738 - accuracy: 0.8036\n"
     ]
    },
    {
     "data": {
      "text/plain": [
       "<keras.callbacks.History at 0x233ea747d60>"
      ]
     },
     "execution_count": 16,
     "metadata": {},
     "output_type": "execute_result"
    }
   ],
   "source": [
    "# 모델 실행 (훈련)\n",
    "model.fit(X_train, y_train, epochs=50, batch_size=4)"
   ]
  },
  {
   "cell_type": "code",
   "execution_count": 17,
   "id": "ee285210",
   "metadata": {},
   "outputs": [
    {
     "name": "stdout",
     "output_type": "stream",
     "text": [
      "2/2 [==============================] - 0s 3ms/step - loss: 0.3957 - accuracy: 0.7895\n"
     ]
    },
    {
     "data": {
      "text/plain": [
       "[0.3956759572029114, 0.7894737124443054]"
      ]
     },
     "execution_count": 17,
     "metadata": {},
     "output_type": "execute_result"
    }
   ],
   "source": [
    "model.evaluate(X_test, y_test)"
   ]
  },
  {
   "cell_type": "code",
   "execution_count": 18,
   "id": "6e811775",
   "metadata": {},
   "outputs": [
    {
     "name": "stdout",
     "output_type": "stream",
     "text": [
      "2/2 [==============================] - 0s 2ms/step\n"
     ]
    },
    {
     "data": {
      "text/plain": [
       "array([0.9816224 , 0.00914753, 0.00923009], dtype=float32)"
      ]
     },
     "execution_count": 18,
     "metadata": {},
     "output_type": "execute_result"
    }
   ],
   "source": [
    "model.predict(X_test)[0]"
   ]
  },
  {
   "cell_type": "code",
   "execution_count": 22,
   "id": "67df9b1a",
   "metadata": {},
   "outputs": [
    {
     "name": "stdout",
     "output_type": "stream",
     "text": [
      "sepal length (cm)    4.4\n",
      "sepal width (cm)     3.2\n",
      "petal length (cm)    1.3\n",
      "petal width (cm)     0.2\n",
      "Name: 42, dtype: float64\n"
     ]
    }
   ],
   "source": [
    "print(X_test.iloc[0])"
   ]
  },
  {
   "cell_type": "code",
   "execution_count": 19,
   "id": "c1556941",
   "metadata": {},
   "outputs": [
    {
     "name": "stdout",
     "output_type": "stream",
     "text": [
      "2/2 [==============================] - 0s 2ms/step\n"
     ]
    },
    {
     "data": {
      "text/plain": [
       "0"
      ]
     },
     "execution_count": 19,
     "metadata": {},
     "output_type": "execute_result"
    }
   ],
   "source": [
    "np.argmax(model.predict(X_test)[0]) # 여기서 값은 y값\n",
    "# 테스트 데이터로 예측한 값이 가장 큰 값을 반환(argmax)한 결과"
   ]
  },
  {
   "cell_type": "code",
   "execution_count": 20,
   "id": "a6038708",
   "metadata": {},
   "outputs": [
    {
     "data": {
      "text/plain": [
       "0"
      ]
     },
     "execution_count": 20,
     "metadata": {},
     "output_type": "execute_result"
    }
   ],
   "source": [
    "# 테스트셋의 실제값\n",
    "y_test.iloc[0] # 위의 값이 이 값임."
   ]
  },
  {
   "cell_type": "markdown",
   "id": "c5a51ddc",
   "metadata": {},
   "source": [
    "### 전체 소스 코드"
   ]
  },
  {
   "cell_type": "code",
   "execution_count": 24,
   "id": "4be55738",
   "metadata": {},
   "outputs": [
    {
     "name": "stdout",
     "output_type": "stream",
     "text": [
      "Epoch 1/50\n",
      "28/28 [==============================] - 0s 1ms/step - loss: 1.0782 - accuracy: 0.3304\n",
      "Epoch 2/50\n",
      "28/28 [==============================] - 0s 1ms/step - loss: 0.9571 - accuracy: 0.6161\n",
      "Epoch 3/50\n",
      "28/28 [==============================] - 0s 997us/step - loss: 0.9059 - accuracy: 0.6696\n",
      "Epoch 4/50\n",
      "28/28 [==============================] - 0s 1ms/step - loss: 0.8840 - accuracy: 0.6696\n",
      "Epoch 5/50\n",
      "28/28 [==============================] - 0s 2ms/step - loss: 0.8630 - accuracy: 0.6696\n",
      "Epoch 6/50\n",
      "28/28 [==============================] - 0s 1ms/step - loss: 0.8452 - accuracy: 0.6696\n",
      "Epoch 7/50\n",
      "28/28 [==============================] - 0s 2ms/step - loss: 0.8277 - accuracy: 0.6696\n",
      "Epoch 8/50\n",
      "28/28 [==============================] - 0s 997us/step - loss: 0.8117 - accuracy: 0.6696\n",
      "Epoch 9/50\n",
      "28/28 [==============================] - 0s 2ms/step - loss: 0.7962 - accuracy: 0.6696\n",
      "Epoch 10/50\n",
      "28/28 [==============================] - 0s 1ms/step - loss: 0.7820 - accuracy: 0.6696\n",
      "Epoch 11/50\n",
      "28/28 [==============================] - 0s 1ms/step - loss: 0.7681 - accuracy: 0.6696\n",
      "Epoch 12/50\n",
      "28/28 [==============================] - 0s 1ms/step - loss: 0.7553 - accuracy: 0.6696\n",
      "Epoch 13/50\n",
      "28/28 [==============================] - 0s 1ms/step - loss: 0.7429 - accuracy: 0.6696\n",
      "Epoch 14/50\n",
      "28/28 [==============================] - 0s 1ms/step - loss: 0.7318 - accuracy: 0.6696\n",
      "Epoch 15/50\n",
      "28/28 [==============================] - 0s 2ms/step - loss: 0.7210 - accuracy: 0.6696\n",
      "Epoch 16/50\n",
      "28/28 [==============================] - 0s 2ms/step - loss: 0.7107 - accuracy: 0.6875\n",
      "Epoch 17/50\n",
      "28/28 [==============================] - 0s 2ms/step - loss: 0.7004 - accuracy: 0.6875\n",
      "Epoch 18/50\n",
      "28/28 [==============================] - 0s 1ms/step - loss: 0.6915 - accuracy: 0.6875\n",
      "Epoch 19/50\n",
      "28/28 [==============================] - 0s 2ms/step - loss: 0.6828 - accuracy: 0.7321\n",
      "Epoch 20/50\n",
      "28/28 [==============================] - 0s 1ms/step - loss: 0.6740 - accuracy: 0.6964\n",
      "Epoch 21/50\n",
      "28/28 [==============================] - 0s 1ms/step - loss: 0.6663 - accuracy: 0.7143\n",
      "Epoch 22/50\n",
      "28/28 [==============================] - 0s 1ms/step - loss: 0.6592 - accuracy: 0.7321\n",
      "Epoch 23/50\n",
      "28/28 [==============================] - 0s 2ms/step - loss: 0.6511 - accuracy: 0.7500\n",
      "Epoch 24/50\n",
      "28/28 [==============================] - 0s 1ms/step - loss: 0.6441 - accuracy: 0.7589\n",
      "Epoch 25/50\n",
      "28/28 [==============================] - 0s 1ms/step - loss: 0.6377 - accuracy: 0.7500\n",
      "Epoch 26/50\n",
      "28/28 [==============================] - 0s 1ms/step - loss: 0.6307 - accuracy: 0.7857\n",
      "Epoch 27/50\n",
      "28/28 [==============================] - 0s 1ms/step - loss: 0.6248 - accuracy: 0.8036\n",
      "Epoch 28/50\n",
      "28/28 [==============================] - 0s 1ms/step - loss: 0.6183 - accuracy: 0.8125\n",
      "Epoch 29/50\n",
      "28/28 [==============================] - 0s 1ms/step - loss: 0.6128 - accuracy: 0.8661\n",
      "Epoch 30/50\n",
      "28/28 [==============================] - 0s 1ms/step - loss: 0.6068 - accuracy: 0.8482\n",
      "Epoch 31/50\n",
      "28/28 [==============================] - 0s 1ms/step - loss: 0.6002 - accuracy: 0.8125\n",
      "Epoch 32/50\n",
      "28/28 [==============================] - 0s 1ms/step - loss: 0.5960 - accuracy: 0.8482\n",
      "Epoch 33/50\n",
      "28/28 [==============================] - 0s 1ms/step - loss: 0.5904 - accuracy: 0.9375\n",
      "Epoch 34/50\n",
      "28/28 [==============================] - 0s 1ms/step - loss: 0.5849 - accuracy: 0.8839\n",
      "Epoch 35/50\n",
      "28/28 [==============================] - 0s 1ms/step - loss: 0.5805 - accuracy: 0.9375\n",
      "Epoch 36/50\n",
      "28/28 [==============================] - 0s 1ms/step - loss: 0.5740 - accuracy: 0.8839\n",
      "Epoch 37/50\n",
      "28/28 [==============================] - 0s 960us/step - loss: 0.5700 - accuracy: 0.9107\n",
      "Epoch 38/50\n",
      "28/28 [==============================] - 0s 1ms/step - loss: 0.5643 - accuracy: 0.9464\n",
      "Epoch 39/50\n",
      "28/28 [==============================] - 0s 997us/step - loss: 0.5601 - accuracy: 0.9196\n",
      "Epoch 40/50\n",
      "28/28 [==============================] - 0s 1ms/step - loss: 0.5562 - accuracy: 0.9554\n",
      "Epoch 41/50\n",
      "28/28 [==============================] - 0s 1ms/step - loss: 0.5502 - accuracy: 0.9107\n",
      "Epoch 42/50\n",
      "28/28 [==============================] - 0s 960us/step - loss: 0.5472 - accuracy: 0.9375\n",
      "Epoch 43/50\n",
      "28/28 [==============================] - 0s 923us/step - loss: 0.5420 - accuracy: 0.9375\n",
      "Epoch 44/50\n",
      "28/28 [==============================] - 0s 923us/step - loss: 0.5389 - accuracy: 0.9375\n",
      "Epoch 45/50\n",
      "28/28 [==============================] - 0s 960us/step - loss: 0.5350 - accuracy: 0.9554\n",
      "Epoch 46/50\n",
      "28/28 [==============================] - 0s 923us/step - loss: 0.5298 - accuracy: 0.9286\n",
      "Epoch 47/50\n",
      "28/28 [==============================] - 0s 1ms/step - loss: 0.5244 - accuracy: 0.9732\n",
      "Epoch 48/50\n",
      "28/28 [==============================] - 0s 960us/step - loss: 0.5196 - accuracy: 0.9286\n",
      "Epoch 49/50\n",
      "28/28 [==============================] - 0s 960us/step - loss: 0.5162 - accuracy: 0.9554\n",
      "Epoch 50/50\n",
      "28/28 [==============================] - 0s 1ms/step - loss: 0.5109 - accuracy: 0.9554\n",
      "2/2 [==============================] - 0s 3ms/step - loss: 0.5406 - accuracy: 0.8158\n",
      "2/2 [==============================] - 0s 2ms/step\n"
     ]
    },
    {
     "data": {
      "text/plain": [
       "array([0.816171  , 0.12338017, 0.0604488 ], dtype=float32)"
      ]
     },
     "execution_count": 24,
     "metadata": {},
     "output_type": "execute_result"
    }
   ],
   "source": [
    "import numpy as np\n",
    "import pandas as pd\n",
    "import matplotlib.pyplot as plt\n",
    "import seaborn as sns\n",
    "from sklearn.datasets import load_iris\n",
    "from sklearn.model_selection import train_test_split\n",
    "import tensorflow as tf\n",
    "from tensorflow.keras.models import Sequential\n",
    "from tensorflow.keras.layers import Dense\n",
    "\n",
    "# 데이터 불러오기\n",
    "iris = load_iris()\n",
    "df = pd.DataFrame(data=iris.data, columns=iris.feature_names)\n",
    "df['label'] = iris.target\n",
    "\n",
    "# 데이터 분할\n",
    "y = df['label']\n",
    "X = df.drop(['label'],axis=1)\n",
    "\n",
    "X_train, X_test, y_train, y_test = train_test_split(X, y, random_state=42, stratify=y)\n",
    "\n",
    "# 모델의 설정\n",
    "model = Sequential()\n",
    "model.add(Dense(8, input_dim=4, activation='softmax'))\n",
    "model.add(Dense(3, activation='softmax'))\n",
    "\n",
    "# 모델 컴파일\n",
    "model.compile(loss='sparse_categorical_crossentropy',\n",
    "             optimizer='SGD',\n",
    "             metrics=['accuracy'])\n",
    "\n",
    "# 모델 실행\n",
    "model.fit(X_train, y_train, epochs=50, batch_size=4)\n",
    "\n",
    "# 모델 평가\n",
    "model.evaluate(X_test, y_test)\n",
    "\n",
    "# 값 예측\n",
    "model.predict(X_test)[0]"
   ]
  },
  {
   "cell_type": "markdown",
   "id": "bae9bf37",
   "metadata": {},
   "source": [
    "2023-06-12\n",
    "\n",
    "전처리(판다스)\n",
    "-결측치(누락치)\n",
    "-이상치 처리\n",
    "-스케일링 및 데이터 변환\n",
    "-피처 엔지니어링\n",
    "-dummy 변수, 원-핫 인코딩\n",
    "\n",
    "데이터 분할\n",
    "-train_test_split()\n",
    "-train/value/test\n",
    "-미니배치, 셔플링\n",
    "-iteration => epochs\n",
    "\n",
    "머신러닝\n",
    "-회귀(단순,다항,다중)\n",
    "-- 절편(_intercept, coef_)\n",
    "-- 규제(리찌,라소,엘라스틱넷)\n",
    "-- 로지스틱 회귀(시그모이드)\n",
    "\n",
    "-분류\n",
    "--의사결정나무\n",
    "--앙상블(랜덤포레스트: 약분류기/강분류기-배깅 vs 부스팅)\n",
    "--혼동행렬(TP,TN,TP,FN) => 정확도, 정밀도, 재현율(Recall)\n",
    "\n",
    "-군집\n",
    "--kmeans(K centrod)\n",
    "--엘보우/실루엣 개수\n",
    "\n",
    "CRISP - DM\n",
    "1.Business understanding\n",
    "2.Date understanding\n",
    "3.Preparing\n",
    "4.Modeling\n",
    "5.Evaluation\n",
    "6.Deployment"
   ]
  }
 ],
 "metadata": {
  "kernelspec": {
   "display_name": "Python 3 (ipykernel)",
   "language": "python",
   "name": "python3"
  },
  "language_info": {
   "codemirror_mode": {
    "name": "ipython",
    "version": 3
   },
   "file_extension": ".py",
   "mimetype": "text/x-python",
   "name": "python",
   "nbconvert_exporter": "python",
   "pygments_lexer": "ipython3",
   "version": "3.10.9"
  }
 },
 "nbformat": 4,
 "nbformat_minor": 5
}
