{
 "cells": [
  {
   "cell_type": "markdown",
   "id": "2c5ff42a",
   "metadata": {},
   "source": [
    "## 머신러닝 GridSearchCV 로 하이퍼 파라미터 학습과 최적화"
   ]
  },
  {
   "cell_type": "markdown",
   "id": "310792fe",
   "metadata": {},
   "source": [
    "### GridSearchCV 란?\n",
    "\n",
    "- 사이킷런에서는 분류 알고리즘이나 회귀 알고리즘에 사용되는 하이퍼파라미터를 순차적으로 입력해 학습을 하고 측정을 하면서 가장 좋은 파라미터를 알려준다. \n",
    "- GridSearchCV가 없다면 max_depth 가 3일때 가장 최적의 스코어를 뽑아내는지 1일때 가장 최적인 스코어를  뽑아내는지 일일이 학습을 해야 한다. \n",
    "- 하지만 grid 파라미터 안에서 집합을 만들고 적용하면 최적화된 파라미터를 뽑아낼 수 있다.\n",
    "\n",
    "- GridSearchCV 에 대한 사이킷런 정식 안내 문서는 밑에 있다."
   ]
  },
  {
   "cell_type": "markdown",
   "id": "dcb0cb38",
   "metadata": {},
   "source": [
    "### GridSearchCV 클래스의 생성자 정리\n",
    "\n",
    "- estimator : classifier, regressor, pipeline 등 가능\n",
    "\n",
    "- param_grid : 튜닝을 위해 파라미터, 사용될 파라미터를 dictionary 형태로 만들어서 넣는다.\n",
    "\n",
    "- scoring : 예측 성능을 측정할 평가 방법을 넣는다. 보통 accuracy 로 지정하여서 정확도로 성능 평가를 한다.\n",
    "\n",
    "- cv : 교차 검증에서 몇개로 분할되는지 지정한다.\n",
    "\n",
    "- refit : True가 디폴트로 True로 하면 최적의 하이퍼 파라미터를 찾아서 재학습 시킨다."
   ]
  },
  {
   "cell_type": "code",
   "execution_count": 11,
   "id": "823d4f35",
   "metadata": {},
   "outputs": [],
   "source": [
    "# 설명은 전부 07-5에## 머신러닝 GridSearchCV 로 하이퍼 파라미터 학습과 최적화## 머신러닝 GridSearchCV 로 하이퍼 파라미터 학습과 최적화### GridSearchCV 클래스의 생성자 정리\n",
    "\n",
    "- estimator : classifier, regressor, pipeline 등 가능\n",
    "\n",
    "- param_grid : 튜닝을 위해 파라미터, 사용될 파라미터를 dictionary 형태로 만들어서 넣는다.\n",
    "\n",
    "- scoring : 예측 성능을 측정할 평가 방법을 넣는다. 보통 accuracy 로 지정하여서 정확도로 성능 평가를 한다.\n",
    "\n",
    "- cv : 교차 검증에서 몇개로 분할되는지 지정한다.\n",
    "\n",
    "- refit : True가 디폴트로 True로 하면 최적의 하이퍼 파라미터를 찾아서 재학습 시킨다."
   ]
  },
  {
   "cell_type": "code",
   "execution_count": null,
   "id": "5ab36830",
   "metadata": {},
   "outputs": [],
   "source": []
  },
  {
   "cell_type": "code",
   "execution_count": 3,
   "id": "31d26586",
   "metadata": {},
   "outputs": [],
   "source": [
    "import pandas as pd\n",
    "import numpy as np\n",
    "from sklearn.datasets import load_iris\n",
    "from sklearn.tree import DecisionTreeClassifier\n",
    "from sklearn.model_selection import GridSearchCV, train_test_split\n",
    "from sklearn.metrics import accuracy_score"
   ]
  },
  {
   "cell_type": "code",
   "execution_count": 4,
   "id": "33866057",
   "metadata": {},
   "outputs": [],
   "source": [
    "iris_data = load_iris()"
   ]
  },
  {
   "cell_type": "code",
   "execution_count": 5,
   "id": "c5e51b92",
   "metadata": {},
   "outputs": [],
   "source": [
    "label = iris_data.target"
   ]
  },
  {
   "cell_type": "code",
   "execution_count": 6,
   "id": "3a4393e5",
   "metadata": {},
   "outputs": [],
   "source": [
    "data = iris_data.data"
   ]
  },
  {
   "cell_type": "code",
   "execution_count": 7,
   "id": "ed2e179d",
   "metadata": {},
   "outputs": [],
   "source": [
    "X_train, X_val, y_train, y_val = train_test_split(data,label,test_size=0.2)"
   ]
  },
  {
   "cell_type": "code",
   "execution_count": 9,
   "id": "09f8d7e3",
   "metadata": {},
   "outputs": [
    {
     "name": "stdout",
     "output_type": "stream",
     "text": [
      "best parameters :  {'max_depth': 3, 'min_samples_split': 3}\n",
      "best score :  0.9499999999999998\n"
     ]
    }
   ],
   "source": [
    "# GridSearchCV의 param_grid 설정\n",
    "\n",
    "params={\n",
    "    'max_depth':[2,3],\n",
    "    'min_samples_split':[2,3]\n",
    "}\n",
    "\n",
    "dtc = DecisionTreeClassifier()\n",
    "\n",
    "grid_tree = GridSearchCV(dtc,param_grid=params,cv=3,\n",
    "                        refit=True)\n",
    "\n",
    "grid_tree.fit(X_train, y_train)\n",
    "\n",
    "print('best parameters : ', grid_tree.best_params_)\n",
    "print('best score : ', grid_tree.best_score_)"
   ]
  },
  {
   "cell_type": "code",
   "execution_count": 10,
   "id": "6b97e171",
   "metadata": {},
   "outputs": [
    {
     "name": "stdout",
     "output_type": "stream",
     "text": [
      "정확성 점수 :  0.9666666666666667\n"
     ]
    }
   ],
   "source": [
    "em = grid_tree.best_estimator_\n",
    "pred = em.predict(X_val)\n",
    "print(\"정확성 점수 : \", accuracy_score(y_val,pred))"
   ]
  },
  {
   "cell_type": "markdown",
   "id": "10cc4d2e",
   "metadata": {},
   "source": [
    "- n_jobs = -1로 설정 하시면 모든 코어사용이 가능합니다. Default값은 1 입니다.\n",
    "- cv = 교차검증을 위한 fold 횟수 입니다. KFold를 쓰고 싶으신 분은 KFold를 설정해주셔도 됩니다.\n",
    " - Ex) cv = StratifiedKFold(n_splits=5, shuffle = True, random_state=42)\n",
    "- refit : True면 가장 최적의 하이퍼 파라미터를 찾은 뒤 입력된 estimator 객체를 해당 하이퍼 파라미터로 재학습시킨다는 의미 입니다 . Default 값은 True입니다.\n",
    "- scoring : 찾으시는 다른 값으로 변경 가능합니다."
   ]
  },
  {
   "cell_type": "code",
   "execution_count": null,
   "id": "88e2ad86",
   "metadata": {},
   "outputs": [],
   "source": []
  }
 ],
 "metadata": {
  "kernelspec": {
   "display_name": "Python 3 (ipykernel)",
   "language": "python",
   "name": "python3"
  },
  "language_info": {
   "codemirror_mode": {
    "name": "ipython",
    "version": 3
   },
   "file_extension": ".py",
   "mimetype": "text/x-python",
   "name": "python",
   "nbconvert_exporter": "python",
   "pygments_lexer": "ipython3",
   "version": "3.10.9"
  }
 },
 "nbformat": 4,
 "nbformat_minor": 5
}
